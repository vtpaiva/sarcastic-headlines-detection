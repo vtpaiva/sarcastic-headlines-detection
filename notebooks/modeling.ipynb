{
 "cells": [
  {
   "cell_type": "markdown",
   "metadata": {},
   "source": [
    "## ***Natural Languagem Processing*** to predict if a headline from a news website contains sarcasm - **Data Modeling**.\n",
    "\n",
    "In this file, there will the data modeling to get a model to predict the data and to be evaluated.\n",
    "\n",
    "For the data modeling, **two approaches** will be used, the first one uses the **words frequency** difference between the target classes along with the **row's word count** and the second one uses a **neural network *word embedding* method** with `keras` to extract a **pattern** from the data."
   ]
  },
  {
   "cell_type": "code",
   "execution_count": 108,
   "metadata": {},
   "outputs": [],
   "source": [
    "import pandas as pd, numpy as np, scikit_posthocs as sp, matplotlib.pyplot as plt, seaborn as sns\n",
    "\n",
    "from sklearn.feature_extraction.text import CountVectorizer\n",
    "from sklearn.preprocessing import StandardScaler\n",
    "from sklearn.model_selection import train_test_split\n",
    "from sklearn.naive_bayes import BernoulliNB\n",
    "from sklearn.ensemble import RandomForestClassifier\n",
    "from sklearn.model_selection import GridSearchCV, StratifiedKFold, cross_val_score\n",
    "from sklearn.metrics import classification_report, f1_score, accuracy_score\n",
    "from sklearn.decomposition import PCA\n",
    "from sklearn.utils import resample\n",
    "\n",
    "from tensorflow.keras.models import Sequential\n",
    "from tensorflow.keras.layers import Embedding, Flatten, Dense, Dropout, Input\n",
    "from tensorflow.keras.preprocessing.text import Tokenizer\n",
    "from tensorflow.keras.preprocessing.sequence import pad_sequences\n",
    "from tensorflow.keras.regularizers import l2\n",
    "from scikeras.wrappers import KerasClassifier"
   ]
  },
  {
   "cell_type": "code",
   "execution_count": null,
   "metadata": {},
   "outputs": [],
   "source": [
    "# Constants names\n",
    "\n",
    "SAMPLE_FRACTION = 0.03\n",
    "TEST_SIZE = 0.33\n",
    "LOWER_BOUND_CONFIDENCE_INTERVAL = 2.5\n",
    "UPPER_BOUND_CONFIDENCE_INTERVAL = 97.5\n",
    "\n",
    "sns.set_style(\"darkgrid\")"
   ]
  },
  {
   "cell_type": "code",
   "execution_count": 3,
   "metadata": {},
   "outputs": [
    {
     "data": {
      "text/html": [
       "<div>\n",
       "<style scoped>\n",
       "    .dataframe tbody tr th:only-of-type {\n",
       "        vertical-align: middle;\n",
       "    }\n",
       "\n",
       "    .dataframe tbody tr th {\n",
       "        vertical-align: top;\n",
       "    }\n",
       "\n",
       "    .dataframe thead th {\n",
       "        text-align: right;\n",
       "    }\n",
       "</style>\n",
       "<table border=\"1\" class=\"dataframe\">\n",
       "  <thead>\n",
       "    <tr style=\"text-align: right;\">\n",
       "      <th></th>\n",
       "      <th>article_link</th>\n",
       "      <th>headline</th>\n",
       "      <th>is_sarcastic</th>\n",
       "    </tr>\n",
       "  </thead>\n",
       "  <tbody>\n",
       "    <tr>\n",
       "      <th>0</th>\n",
       "      <td>https://www.huffingtonpost.com/entry/versace-b...</td>\n",
       "      <td>former versace store clerk sues over secret 'b...</td>\n",
       "      <td>0</td>\n",
       "    </tr>\n",
       "    <tr>\n",
       "      <th>1</th>\n",
       "      <td>https://www.huffingtonpost.com/entry/roseanne-...</td>\n",
       "      <td>the 'roseanne' revival catches up to our thorn...</td>\n",
       "      <td>0</td>\n",
       "    </tr>\n",
       "    <tr>\n",
       "      <th>2</th>\n",
       "      <td>https://local.theonion.com/mom-starting-to-fea...</td>\n",
       "      <td>mom starting to fear son's web series closest ...</td>\n",
       "      <td>1</td>\n",
       "    </tr>\n",
       "    <tr>\n",
       "      <th>3</th>\n",
       "      <td>https://politics.theonion.com/boehner-just-wan...</td>\n",
       "      <td>boehner just wants wife to listen, not come up...</td>\n",
       "      <td>1</td>\n",
       "    </tr>\n",
       "    <tr>\n",
       "      <th>4</th>\n",
       "      <td>https://www.huffingtonpost.com/entry/jk-rowlin...</td>\n",
       "      <td>j.k. rowling wishes snape happy birthday in th...</td>\n",
       "      <td>0</td>\n",
       "    </tr>\n",
       "  </tbody>\n",
       "</table>\n",
       "</div>"
      ],
      "text/plain": [
       "                                        article_link  \\\n",
       "0  https://www.huffingtonpost.com/entry/versace-b...   \n",
       "1  https://www.huffingtonpost.com/entry/roseanne-...   \n",
       "2  https://local.theonion.com/mom-starting-to-fea...   \n",
       "3  https://politics.theonion.com/boehner-just-wan...   \n",
       "4  https://www.huffingtonpost.com/entry/jk-rowlin...   \n",
       "\n",
       "                                            headline  is_sarcastic  \n",
       "0  former versace store clerk sues over secret 'b...             0  \n",
       "1  the 'roseanne' revival catches up to our thorn...             0  \n",
       "2  mom starting to fear son's web series closest ...             1  \n",
       "3  boehner just wants wife to listen, not come up...             1  \n",
       "4  j.k. rowling wishes snape happy birthday in th...             0  "
      ]
     },
     "execution_count": 3,
     "metadata": {},
     "output_type": "execute_result"
    }
   ],
   "source": [
    "sarcasm_df = pd.read_csv('sarcasm.csv')\n",
    "\n",
    "sarcasm_df.head()"
   ]
  },
  {
   "cell_type": "markdown",
   "metadata": {},
   "source": [
    "### Feature Engineering\n",
    "\n",
    "At first, in order to **soften the training computational costs** and, especifically, **optimize tasks as hyperparameters tunning**, a separated sample `X_train_sampled` along with the labels `y_train_sampled` with **3%** of the rows from the training dataset is created, therefore, assuming a **similar data distribution** between the entire training set and the sample extracted by giving a **probability of choice in the sample equivalent to the original proportion** in the dataset, the training step will have the **same class representativity** and **less computational costs**."
   ]
  },
  {
   "cell_type": "code",
   "execution_count": 80,
   "metadata": {},
   "outputs": [],
   "source": [
    "X, y = sarcasm_df['headline'], sarcasm_df['is_sarcastic']\n",
    "\n",
    "X_train, X_test, y_train, y_test = train_test_split(\n",
    "                                                    X, \n",
    "                                                    y, \n",
    "                                                    test_size=TEST_SIZE, \n",
    "                                                    random_state=42, \n",
    "                                                    stratify=y\n",
    "                                                )\n",
    "\n",
    "train_data = pd.concat([X_train, y_train], axis=1)\n",
    "\n",
    "class_counts = sarcasm_df['is_sarcastic'].value_counts(normalize=True)\n",
    "train_data['weights'] = train_data['is_sarcastic'].map(class_counts)\n",
    "\n",
    "sampled_data = train_data.sample(frac=SAMPLE_FRACTION, random_state=42, weights='weights')\n",
    "\n",
    "X_train_sampled, y_train_sampled = sampled_data['headline'], sampled_data['is_sarcastic']\n",
    "\n",
    "scv = StratifiedKFold(n_splits=10, shuffle=True, random_state=42)"
   ]
  },
  {
   "cell_type": "markdown",
   "metadata": {},
   "source": [
    "At this moment, as the first **feature engineering approach**, the **word frequency difference between each target class** along with the **rows word count**, multipying both values, made with `CountVectorizer`, are used to obtain a numerical set of features.\n",
    "\n",
    "So, the feature ***i*** related to a especific token in the row ***j*** will be given as:\n",
    "\n",
    "$$\n",
    "Feature_{ij} = (token_{i}\\_count_{class = \\textbf{non\\_sarcastic}} - token_i\\_count_{class = \\textbf{sarcastic}}) \\times (token_i\\_count)_j\n",
    "$$\n",
    "\n",
    "Therefore, **the tokens with more appearances in sarcastic rows will have a greater positive value** and, on the other hand, **tokens with more appearances in sarcastic rows will have a negative value** and, in addiction to that, the **row's token count will enhance the frequency discrimination**."
   ]
  },
  {
   "cell_type": "code",
   "execution_count": 5,
   "metadata": {},
   "outputs": [],
   "source": [
    "vectorizer = CountVectorizer()\n",
    "\n",
    "X_train_vectorized = vectorizer.fit_transform(X_train)\n",
    "X_train_sampled_vectorized = vectorizer.transform(X_train_sampled)\n",
    "X_test_vectorized = vectorizer.transform(X_test)\n",
    "\n",
    "X_train_df = pd.DataFrame(\n",
    "    X_train_vectorized.toarray(),\n",
    "    columns=vectorizer.get_feature_names_out()\n",
    ")\n",
    "\n",
    "X_sampled_train_df = pd.DataFrame(\n",
    "    X_train_sampled_vectorized.toarray(),\n",
    "    columns=vectorizer.get_feature_names_out()\n",
    ")\n",
    "    \n",
    "X_test_df = pd.DataFrame(\n",
    "    X_test_vectorized.toarray(),\n",
    "    columns=vectorizer.get_feature_names_out()\n",
    ")\n",
    "\n",
    "class_0_counts = X_train_df[y_train.reset_index(drop=True) == 0].sum()\n",
    "class_1_counts = X_train_df[y_train.reset_index(drop=True) == 1].sum()\n",
    "\n",
    "word_diff = class_0_counts - class_1_counts\n",
    "\n",
    "word_weights = dict(zip(word_diff.index, word_diff.values))\n",
    "\n",
    "X_train_weighted = X_train_df.multiply(\n",
    "    X_train_df.columns.map(word_weights),\n",
    "    axis=1\n",
    ")\n",
    "\n",
    "X_train_sampled_weighted = X_sampled_train_df.multiply(\n",
    "    X_sampled_train_df.columns.map(word_weights),\n",
    "    axis=1\n",
    ")\n",
    "\n",
    "X_test_weighted = X_test_df.multiply(\n",
    "    X_test_df.columns.map(word_weights),\n",
    "    axis=1\n",
    ")"
   ]
  },
  {
   "cell_type": "markdown",
   "metadata": {},
   "source": [
    "In order to **soften the features scale difference**, the ***standand scaler*** will be applied, so, the `StandardScaler` will be fitted on the training dataset only to **prevent data leak** and, after, both training and test sets will be transformed by the *standardization*."
   ]
  },
  {
   "cell_type": "code",
   "execution_count": 115,
   "metadata": {},
   "outputs": [],
   "source": [
    "stantard = StandardScaler()\n",
    "\n",
    "X_train_weighted = stantard.fit_transform(X_train_weighted)\n",
    "X_train_sampled_weighted = stantard.transform(X_train_sampled_weighted)\n",
    "X_test_weighted = stantard.transform(X_test_weighted)"
   ]
  },
  {
   "cell_type": "code",
   "execution_count": 117,
   "metadata": {},
   "outputs": [
    {
     "data": {
      "text/plain": [
       "(17895, 21094)"
      ]
     },
     "execution_count": 117,
     "metadata": {},
     "output_type": "execute_result"
    }
   ],
   "source": [
    "X_train_weighted.shape"
   ]
  },
  {
   "cell_type": "markdown",
   "metadata": {},
   "source": [
    "### Model training\n",
    "\n",
    "The models will be trained with the ***Naive Bayes*** and the ***Random Forest algorithms***, both using the ***grid search*** method to make the **hyperparameter tunning** with the `StratifiedKFold` technique to maintain the **original classes proportion**.\n",
    "\n",
    "Knowing that the dataset has a level of imbalance, the scoring method to be used will be the `f1_weighed`, which deals with precision and recall problems with class weights."
   ]
  },
  {
   "cell_type": "code",
   "execution_count": null,
   "metadata": {},
   "outputs": [],
   "source": [
    "NB_model = BernoulliNB()\n",
    "\n",
    "NB_param_grid = {\n",
    "    'alpha': [0.5, 0.75, 1.0, 2.0]\n",
    "}\n",
    "\n",
    "NB_grid = GridSearchCV(\n",
    "    estimator=NB_model,\n",
    "    param_grid=NB_param_grid,\n",
    "    cv=scv,\n",
    "    n_jobs=2\n",
    ")"
   ]
  },
  {
   "cell_type": "markdown",
   "metadata": {},
   "source": [
    "The model is first **trained with the samples** and, with the **best parameters**, trained with the **entire training set** later"
   ]
  },
  {
   "cell_type": "code",
   "execution_count": 74,
   "metadata": {},
   "outputs": [
    {
     "data": {
      "text/plain": [
       "{'alpha': 0.5}"
      ]
     },
     "execution_count": 74,
     "metadata": {},
     "output_type": "execute_result"
    }
   ],
   "source": [
    "NB_grid.best_params_"
   ]
  },
  {
   "cell_type": "code",
   "execution_count": 75,
   "metadata": {},
   "outputs": [],
   "source": [
    "NB_best = NB_grid.best_estimator_.fit(X_train_weighted, y_train)"
   ]
  },
  {
   "cell_type": "code",
   "execution_count": 10,
   "metadata": {},
   "outputs": [
    {
     "name": "stdout",
     "output_type": "stream",
     "text": [
      "              precision    recall  f1-score   support\n",
      "\n",
      "           0      0.940     0.961     0.950     10040\n",
      "           1      0.949     0.921     0.935      7855\n",
      "\n",
      "    accuracy                          0.944     17895\n",
      "   macro avg      0.944     0.941     0.943     17895\n",
      "weighted avg      0.944     0.944     0.944     17895\n",
      "\n",
      "              precision    recall  f1-score   support\n",
      "\n",
      "           0      0.835     0.895     0.864      4945\n",
      "           1      0.852     0.774     0.811      3869\n",
      "\n",
      "    accuracy                          0.842      8814\n",
      "   macro avg      0.844     0.834     0.838      8814\n",
      "weighted avg      0.843     0.842     0.841      8814\n",
      "\n"
     ]
    }
   ],
   "source": [
    "print(classification_report(y_train, NB_best.predict(X_train_weighted), digits=3))\n",
    "\n",
    "print(classification_report(y_test, NB_best.predict(X_test_weighted), digits=3))"
   ]
  },
  {
   "cell_type": "markdown",
   "metadata": {},
   "source": [
    "* According to the `classification_report`, the **accuracy** reached a good accuracy level, ***84%***, along with solid values of **precision** and **recall**, except on the sarcastic headlines recall, but, the model presented a high ***overfitting*** degree, pointed by the **accuracy variance between the training and the test sets**.\n",
    "\n",
    "So, to handle the ***overfitting***, the PCA method will be used to **simplificate the model** and decrease the complexity."
   ]
  },
  {
   "cell_type": "code",
   "execution_count": 11,
   "metadata": {},
   "outputs": [],
   "source": [
    "pca = PCA(n_components=2000)\n",
    "\n",
    "X_train_pca = pca.fit_transform(X_train_weighted)\n",
    "\n",
    "X_test_pca, X_train_sampled_pca = pca.transform(X_test_weighted), pca.transform(X_train_sampled_weighted)"
   ]
  },
  {
   "cell_type": "markdown",
   "metadata": {},
   "source": [
    "The number of resulting components on the dataset will be calculated taking as a reference the number of rows on the training set and the number of features ratio.\n",
    "\n",
    "So, the dataset previously had a ratio:\n",
    "\n",
    "$$\n",
    "\\frac{\\#\\_rows}{\\#\\_features} = \\frac{17895}{21094} = 0.85\n",
    "$$\n",
    "\n",
    "And then, in order to keep the ratio close to ten times than previously:\n",
    "\n",
    "$$\n",
    "\\#\\_features = \\frac{17895}{10} \\approx 2000\n",
    "$$"
   ]
  },
  {
   "cell_type": "code",
   "execution_count": 69,
   "metadata": {},
   "outputs": [],
   "source": [
    "NB_model = BernoulliNB()\n",
    "\n",
    "NB_param_grid = {\n",
    "    'alpha': [0.5, 0.75, 1.0, 2.0]\n",
    "}\n",
    "\n",
    "NB_grid_pca = GridSearchCV(\n",
    "    estimator=NB_model,\n",
    "    param_grid=NB_param_grid,\n",
    "    cv=scv,\n",
    "    n_jobs=2,\n",
    "    scoring='f1_weighted'\n",
    ").fit(X_train_sampled_pca, y_train_sampled)"
   ]
  },
  {
   "cell_type": "code",
   "execution_count": 71,
   "metadata": {},
   "outputs": [
    {
     "data": {
      "text/plain": [
       "{'alpha': 0.5}"
      ]
     },
     "execution_count": 71,
     "metadata": {},
     "output_type": "execute_result"
    }
   ],
   "source": [
    "NB_grid_pca.best_params_"
   ]
  },
  {
   "cell_type": "code",
   "execution_count": 72,
   "metadata": {},
   "outputs": [],
   "source": [
    "NB_best_pca = NB_grid.best_estimator_.fit(X_train_pca, y_train)"
   ]
  },
  {
   "cell_type": "code",
   "execution_count": null,
   "metadata": {},
   "outputs": [
    {
     "name": "stdout",
     "output_type": "stream",
     "text": [
      "              precision    recall  f1-score   support\n",
      "\n",
      "           0      0.837     0.804     0.820     10040\n",
      "           1      0.762     0.799     0.780      7855\n",
      "\n",
      "    accuracy                          0.802     17895\n",
      "   macro avg      0.799     0.802     0.800     17895\n",
      "weighted avg      0.804     0.802     0.802     17895\n",
      "\n",
      "              precision    recall  f1-score   support\n",
      "\n",
      "           0      0.825     0.787     0.806      4945\n",
      "           1      0.743     0.787     0.764      3869\n",
      "\n",
      "    accuracy                          0.787      8814\n",
      "   macro avg      0.784     0.787     0.785      8814\n",
      "weighted avg      0.789     0.787     0.787      8814\n",
      "\n"
     ]
    }
   ],
   "source": [
    "print(classification_report(y_train, NB_best_pca.predict(X_train_pca), digits=3))\n",
    "\n",
    "print(classification_report(y_test, NB_best_pca.predict(X_test_pca), digits=3))"
   ]
  },
  {
   "cell_type": "markdown",
   "metadata": {},
   "source": [
    "* According to the `classification_report`, the **overffiting was smoothed**, pointed by the **smaller difference between tes and training accuracies**, but the accuracy has decreased, indicating that the **irreducible error** by the data of the algorithm might **limit the model efficiency**."
   ]
  },
  {
   "cell_type": "markdown",
   "metadata": {},
   "source": [
    "Now, to check **other algorithms efficiency** on the task, the ***Random Forest*** model id trained on the dataset."
   ]
  },
  {
   "cell_type": "code",
   "execution_count": 16,
   "metadata": {},
   "outputs": [],
   "source": [
    "RF_model = RandomForestClassifier(n_jobs=2, verbose=0)\n",
    "\n",
    "RF_param_grid = {\n",
    "    'n_estimators': [50, 100, 200],\n",
    "    'criterion': ['gini', 'log_loss', 'entropy'],\n",
    "    'class_weight': [None, 'balanced']\n",
    "}\n",
    "\n",
    "RF_grid = GridSearchCV(\n",
    "                estimator=RF_model,\n",
    "                param_grid=RF_param_grid,\n",
    "                cv=scv,\n",
    "                n_jobs=2,\n",
    "                scoring='f1_weighted',\n",
    "                verbose=0\n",
    "            ).fit(X_train_sampled_weighted, y_train_sampled)"
   ]
  },
  {
   "cell_type": "code",
   "execution_count": 17,
   "metadata": {},
   "outputs": [
    {
     "data": {
      "text/plain": [
       "{'class_weight': 'balanced', 'criterion': 'gini', 'n_estimators': 50}"
      ]
     },
     "execution_count": 17,
     "metadata": {},
     "output_type": "execute_result"
    }
   ],
   "source": [
    "RF_grid.best_params_"
   ]
  },
  {
   "cell_type": "code",
   "execution_count": 18,
   "metadata": {
    "scrolled": true
   },
   "outputs": [],
   "source": [
    "RF_best = RF_grid.best_estimator_.fit(X_train_weighted, y_train)"
   ]
  },
  {
   "cell_type": "code",
   "execution_count": 19,
   "metadata": {},
   "outputs": [
    {
     "name": "stdout",
     "output_type": "stream",
     "text": [
      "              precision    recall  f1-score   support\n",
      "\n",
      "           0      1.000     1.000     1.000     10040\n",
      "           1      1.000     1.000     1.000      7855\n",
      "\n",
      "    accuracy                          1.000     17895\n",
      "   macro avg      1.000     1.000     1.000     17895\n",
      "weighted avg      1.000     1.000     1.000     17895\n",
      "\n",
      "              precision    recall  f1-score   support\n",
      "\n",
      "           0      0.840     0.805     0.822      4945\n",
      "           1      0.764     0.804     0.783      3869\n",
      "\n",
      "    accuracy                          0.805      8814\n",
      "   macro avg      0.802     0.805     0.803      8814\n",
      "weighted avg      0.806     0.805     0.805      8814\n",
      "\n"
     ]
    }
   ],
   "source": [
    "print(classification_report(y_train, RF_best.predict(X_train_weighted), digits=3))\n",
    "\n",
    "print(classification_report(y_test, RF_best.predict(X_test_weighted), digits=3))"
   ]
  },
  {
   "cell_type": "markdown",
   "metadata": {},
   "source": [
    "* Based on the report, despite the reasonable accuracy and score, the model shows a high **overfitting** degree as well.\n",
    "\n",
    "Therefore, to deal with overfitting, constraints are set for the model in the hyperparameter grid."
   ]
  },
  {
   "cell_type": "code",
   "execution_count": 20,
   "metadata": {
    "scrolled": true
   },
   "outputs": [],
   "source": [
    "RF_model = RandomForestClassifier(n_jobs=2, class_weight='balanced', n_estimators=200, verbose=0)\n",
    "\n",
    "RF_param_grid = {\n",
    "    'max_depth': [2000, 1000, 500],\n",
    "    'min_samples_leaf': [5, 4, 3]\n",
    "}\n",
    "\n",
    "RF_grid = GridSearchCV(\n",
    "                estimator=RF_model,\n",
    "                param_grid=RF_param_grid,\n",
    "                cv=scv,\n",
    "                n_jobs=2,\n",
    "                scoring='f1_weighted'\n",
    "            ).fit(X_train_sampled_weighted, y_train_sampled)"
   ]
  },
  {
   "cell_type": "code",
   "execution_count": 21,
   "metadata": {},
   "outputs": [
    {
     "data": {
      "text/plain": [
       "{'max_depth': 1000, 'min_samples_leaf': 3}"
      ]
     },
     "execution_count": 21,
     "metadata": {},
     "output_type": "execute_result"
    }
   ],
   "source": [
    "RF_grid.best_params_"
   ]
  },
  {
   "cell_type": "code",
   "execution_count": 22,
   "metadata": {},
   "outputs": [],
   "source": [
    "RF_best = RF_grid.best_estimator_.fit(X_train_weighted, y_train)"
   ]
  },
  {
   "cell_type": "code",
   "execution_count": 23,
   "metadata": {},
   "outputs": [
    {
     "name": "stdout",
     "output_type": "stream",
     "text": [
      "              precision    recall  f1-score   support\n",
      "\n",
      "           0      0.897     0.833     0.864     10040\n",
      "           1      0.805     0.878     0.840      7855\n",
      "\n",
      "    accuracy                          0.853     17895\n",
      "   macro avg      0.851     0.856     0.852     17895\n",
      "weighted avg      0.857     0.853     0.853     17895\n",
      "\n",
      "              precision    recall  f1-score   support\n",
      "\n",
      "           0      0.860     0.777     0.816      4945\n",
      "           1      0.746     0.839     0.790      3869\n",
      "\n",
      "    accuracy                          0.804      8814\n",
      "   macro avg      0.803     0.808     0.803      8814\n",
      "weighted avg      0.810     0.804     0.805      8814\n",
      "\n"
     ]
    }
   ],
   "source": [
    "print(classification_report(y_train, RF_best.predict(X_train_weighted), digits=3))\n",
    "\n",
    "print(classification_report(y_test, RF_best.predict(X_test_weighted), digits=3))"
   ]
  },
  {
   "cell_type": "markdown",
   "metadata": {},
   "source": [
    "* Based on the results, the **overfitting** degree was smoothed, but the **accuracy has not changed significantly**, which also indicates a high **irreducible error** by the data to the **Random Forest** algorithm.\n",
    "\n",
    "In order to verify the **tokens discrimination ratio**, the **model's features relevance graph** is plotted."
   ]
  },
  {
   "cell_type": "code",
   "execution_count": 24,
   "metadata": {},
   "outputs": [
    {
     "data": {
      "image/png": "[encoded data removed]",
      "text/plain": [
       "<Figure size 640x480 with 1 Axes>"
      ]
     },
     "metadata": {},
     "output_type": "display_data"
    }
   ],
   "source": [
    "feat_importances = pd.Series(RF_best.feature_importances_, index=X_train_df.columns)\n",
    "feat_importances.nlargest(15).sort_values().plot(kind='barh')\n",
    "\n",
    "sns.despine()\n",
    "plt.show()"
   ]
  },
  {
   "cell_type": "markdown",
   "metadata": {},
   "source": [
    "* According to the graph, the symbol '**the**' demonstrated a high **degree of discrimination in sarcasm**, along with '**and**' and '**is**', highlighting '**man**' as the most discriminating noun."
   ]
  },
  {
   "cell_type": "markdown",
   "metadata": {},
   "source": [
    "### **Neural Networks embedding**\n",
    "\n",
    "On the second feature engineering approach, the **neural network word embedding** method with `keras` will be used.\n",
    "\n",
    "Therefore, the headlines are converted to **tokens** with the built-in library functions and a **convolutional neural network** is designed with a ***embedding layer*** to handle the unstructured data and middle layers to process the information, find patterns and make the prediction."
   ]
  },
  {
   "cell_type": "code",
   "execution_count": 81,
   "metadata": {},
   "outputs": [],
   "source": [
    "tokenizer = Tokenizer(num_words=5000)\n",
    "tokenizer.fit_on_texts(X_train)\n",
    "X_train_nn, X_test_nn = tokenizer.texts_to_sequences(X_train), tokenizer.texts_to_sequences(X_test)\n",
    "\n",
    "sequences = X_train_nn + X_test_nn\n",
    "\n",
    "vocab_size = len(tokenizer.word_index) + 1  \n",
    "\n",
    "max_len = max(len(seq) for seq in sequences)\n",
    "\n",
    "X_train_nn = pad_sequences(X_train_nn, maxlen=max_len, padding='post')\n",
    "X_test_nn = pad_sequences(X_test_nn, maxlen=max_len, padding='post')"
   ]
  },
  {
   "cell_type": "markdown",
   "metadata": {},
   "source": [
    "Same as previously, the dataset is splitted in **samples** to **optmize the training step**."
   ]
  },
  {
   "cell_type": "code",
   "execution_count": 82,
   "metadata": {},
   "outputs": [],
   "source": [
    "train_data = pd.DataFrame({'X': list(X_train_nn), 'is_sarcastic': y_train.tolist()})\n",
    "\n",
    "sampled_data = train_data.groupby('is_sarcastic')[['X', 'is_sarcastic']].apply(\n",
    "    lambda group: group.sample(frac=SAMPLE_FRACTION, random_state=42)\n",
    ")\n",
    "\n",
    "X_train_sampled, y_train_sampled = np.array(sampled_data['X'].tolist()), np.array(sampled_data['is_sarcastic'])"
   ]
  },
  {
   "cell_type": "markdown",
   "metadata": {},
   "source": [
    "At this moment, a grid search is made with the neural network to find the best params among **regularization rates**, **batch sizes** and **epochs**.\n",
    "\n",
    "The initial **embedding shape** have a **input dimension** of **5 features**."
   ]
  },
  {
   "cell_type": "code",
   "execution_count": 83,
   "metadata": {},
   "outputs": [],
   "source": [
    "def create_model(vocab_size, embedding_dim, input_length, learning_rate=0.001, dropout_rate=0.5, l2_rate=0.05, **kwargs):\n",
    "    model = Sequential([\n",
    "        Input(shape=(input_length,)),  \n",
    "        Embedding(input_dim=vocab_size, output_dim=embedding_dim),\n",
    "        Flatten(),\n",
    "        Dense(32, activation='relu', kernel_regularizer=l2(l2_rate)),\n",
    "        Dropout(dropout_rate),\n",
    "        Dense(32, activation='relu', kernel_regularizer=l2(l2_rate)),\n",
    "        Dropout(dropout_rate / 3),\n",
    "        Dense(32, activation='relu', kernel_regularizer=l2(l2_rate)),\n",
    "        Dropout(dropout_rate / 6),\n",
    "        Dense(1, activation='sigmoid') \n",
    "    ])\n",
    "\n",
    "    model.compile(optimizer='adam', loss='binary_crossentropy', metrics=['accuracy'])\n",
    "\n",
    "    return model\n",
    "\n",
    "sequence_length = X_train_nn.shape[1]\n",
    "\n",
    "keras_model = KerasClassifier(\n",
    "    model=create_model,\n",
    "    model__vocab_size=vocab_size,         \n",
    "    model__embedding_dim=5,               \n",
    "    model__input_length=sequence_length,  \n",
    "    verbose=0\n",
    ")\n",
    "\n",
    "param_grid = {\n",
    "    'model__l2_rate': [0.01, 0.001], \n",
    "    'model__dropout_rate': [0.1, 0.3],\n",
    "    'fit__batch_size': [16, 24],     \n",
    "    'fit__epochs': [20, 50]         \n",
    "}\n",
    "\n",
    "grid = GridSearchCV(estimator=keras_model, param_grid=param_grid, cv=scv, scoring='f1_weighted')\n",
    "\n",
    "grid_result = grid.fit(X_train_sampled, y_train_sampled)"
   ]
  },
  {
   "cell_type": "code",
   "execution_count": 84,
   "metadata": {},
   "outputs": [
    {
     "data": {
      "text/plain": [
       "{'fit__batch_size': 16,\n",
       " 'fit__epochs': 20,\n",
       " 'model__dropout_rate': 0.3,\n",
       " 'model__l2_rate': 0.001}"
      ]
     },
     "execution_count": 84,
     "metadata": {},
     "output_type": "execute_result"
    }
   ],
   "source": [
    "grid_result.best_params_"
   ]
  },
  {
   "cell_type": "code",
   "execution_count": 85,
   "metadata": {},
   "outputs": [],
   "source": [
    "NN_best = grid_result.best_estimator_.fit(X_train_nn, y_train)"
   ]
  },
  {
   "cell_type": "code",
   "execution_count": 86,
   "metadata": {},
   "outputs": [
    {
     "name": "stdout",
     "output_type": "stream",
     "text": [
      "              precision    recall  f1-score   support\n",
      "\n",
      "           0      0.998     1.000     0.999     10040\n",
      "           1      1.000     0.997     0.998      7855\n",
      "\n",
      "    accuracy                          0.999     17895\n",
      "   macro avg      0.999     0.998     0.999     17895\n",
      "weighted avg      0.999     0.999     0.999     17895\n",
      "\n",
      "              precision    recall  f1-score   support\n",
      "\n",
      "           0      0.819     0.846     0.832      4945\n",
      "           1      0.794     0.760     0.777      3869\n",
      "\n",
      "    accuracy                          0.808      8814\n",
      "   macro avg      0.806     0.803     0.804      8814\n",
      "weighted avg      0.808     0.808     0.808      8814\n",
      "\n"
     ]
    }
   ],
   "source": [
    "print(classification_report(y_train, NN_best.predict(X_train_nn), digits=3))\n",
    "\n",
    "print(classification_report(y_test, NN_best.predict(X_test_nn), digits=3))"
   ]
  },
  {
   "cell_type": "markdown",
   "metadata": {},
   "source": [
    "* The model has shown a high **overfitting** level despite a good accuracy and consistent values of **recall** and **precision**.\n",
    "\n",
    "In order to check the **embedding input shape** influence on the **overfitting** degree and on the **model efficiency**, the dimension is changed to values in the interval of **[5, 50]** and the **accuracy values** are plotted."
   ]
  },
  {
   "cell_type": "code",
   "execution_count": null,
   "metadata": {},
   "outputs": [],
   "source": [
    "def fit_nn_model(embedding_dim, best_params):\n",
    "    model = create_model(\n",
    "    vocab_size=vocab_size,\n",
    "    embedding_dim=embedding_dim,  \n",
    "    input_length=sequence_length,\n",
    "    learning_rate=0.001,  \n",
    "    dropout_rate=best_params['model__dropout_rate'],  \n",
    "    l2_rate=best_params['model__l2_rate']  \n",
    ")\n",
    "   \n",
    "    model.compile(optimizer='adam', loss='binary_crossentropy', metrics=['accuracy'])\n",
    "\n",
    "    model.fit(\n",
    "            X_train_nn, y_train,\n",
    "            batch_size=best_params['fit__batch_size'],  \n",
    "            epochs=best_params['fit__epochs'],  \n",
    "            validation_split=0.2,  \n",
    "            verbose=0\n",
    "        )\n",
    "\n",
    "    return accuracy_score(y_train, model.predict(X_train_nn).round()), accuracy_score(y_test, model.predict(X_test_nn).round())"
   ]
  },
  {
   "cell_type": "code",
   "execution_count": null,
   "metadata": {},
   "outputs": [],
   "source": [
    "results = {k: fit_nn_model(k, grid_result.best_params_) for k in range(5, 51, 5)}"
   ]
  },
  {
   "cell_type": "code",
   "execution_count": 123,
   "metadata": {},
   "outputs": [
    {
     "data": {
      "image/png": "[encoded data removed]",
      "text/plain": [
       "<Figure size 640x480 with 1 Axes>"
      ]
     },
     "metadata": {},
     "output_type": "display_data"
    }
   ],
   "source": [
    "plt.plot(results.keys(), [acc[0] for acc in results.values()], marker='o', label='Train accuracy')\n",
    "plt.plot(results.keys(), [acc[1] for acc in results.values()], marker='o',  label='Test accuracy')\n",
    "plt.legend()\n",
    "\n",
    "plt.show()"
   ]
  },
  {
   "cell_type": "markdown",
   "metadata": {},
   "source": [
    "* According to the image, the **overffiting occurs on input shapes between 5 and 50**, showing **consistent accuracy levels**. Therefore, **the network topology might be not as efficent as ideal**.\n",
    "\n",
    "To check the models **statistical significance** and **discrepancy**, a ***booststrap resampling*** task is applied to both three models built and the ***Friedman*** test is aplied on a **cross validation score** modeling task to verify if the models has differences between eachother."
   ]
  },
  {
   "cell_type": "code",
   "execution_count": 95,
   "metadata": {},
   "outputs": [],
   "source": [
    "def get_bootstrap_confidences(model, X_test, y_test, iterations=100):\n",
    "    accuracies, baseline_accuracy = [], accuracy_score(y_test, model.predict(X_test))\n",
    "\n",
    "    for _ in range(iterations):\n",
    "        X_test_resample, y_test_resample = resample(X_test, y_test)\n",
    "\n",
    "        y_pred_resampled = model.predict(X_test_resample)\n",
    "\n",
    "        acc = accuracy_score(y_test_resample, y_pred_resampled)\n",
    "        accuracies.append(acc)\n",
    "\n",
    "    bootstrap_mean = np.mean(accuracies)\n",
    "    bootstrap_std_error = np.std(accuracies, ddof=1)\n",
    "\n",
    "    print(f\"Bootstrap mean: {bootstrap_mean:.4f}\")\n",
    "    print(f\"Standard error: {bootstrap_std_error:.4f}\")\n",
    "\n",
    "    lower_bound = np.percentile(accuracies, LOWER_BOUND_CONFIDENCE_INTERVAL)\n",
    "    upper_bound = np.percentile(accuracies, UPPER_BOUND_CONFIDENCE_INTERVAL)\n",
    "    \n",
    "    print(f\"Confidence interval (95%): [{lower_bound:.4f}, {upper_bound:.4f}]\")\n",
    "\n",
    "    plt.hist(accuracies, bins=30, alpha=0.7, color='blue')\n",
    "    plt.axvline(lower_bound, color='red', linestyle='--', label='Lower bound')\n",
    "    plt.axvline(upper_bound, color='green', linestyle='--', label='Upper bound')\n",
    "    plt.axvline(baseline_accuracy, color='black', linestyle='-', label='Baseline accuracy')\n",
    "    plt.legend()\n",
    "    plt.show()"
   ]
  },
  {
   "cell_type": "code",
   "execution_count": 97,
   "metadata": {},
   "outputs": [
    {
     "name": "stdout",
     "output_type": "stream",
     "text": [
      "Bootstrap mean: 0.8423\n",
      "Standard error: 0.0041\n",
      "Confidence interval (95%): [0.8349, 0.8507]\n"
     ]
    },
    {
     "data": {
      "image/png": "[encoded data removed]",
      "text/plain": [
       "<Figure size 640x480 with 1 Axes>"
      ]
     },
     "metadata": {},
     "output_type": "display_data"
    }
   ],
   "source": [
    "get_bootstrap_confidences(NB_best, X_test_weighted, y_test)"
   ]
  },
  {
   "cell_type": "code",
   "execution_count": 98,
   "metadata": {},
   "outputs": [
    {
     "name": "stdout",
     "output_type": "stream",
     "text": [
      "Bootstrap mean: 0.8043\n",
      "Standard error: 0.0041\n",
      "Confidence interval (95%): [0.7955, 0.8124]\n"
     ]
    },
    {
     "data": {
      "image/png": "[encoded data removed]",
      "text/plain": [
       "<Figure size 640x480 with 1 Axes>"
      ]
     },
     "metadata": {},
     "output_type": "display_data"
    }
   ],
   "source": [
    "get_bootstrap_confidences(RF_best, X_test_weighted, y_test)"
   ]
  },
  {
   "cell_type": "code",
   "execution_count": 96,
   "metadata": {},
   "outputs": [
    {
     "name": "stdout",
     "output_type": "stream",
     "text": [
      "Bootstrap mean: 0.8090\n",
      "Standard error: 0.0039\n",
      "Confidence interval (95%): [0.8012, 0.8165]\n"
     ]
    },
    {
     "data": {
      "image/png": "[encoded data removed]",
      "text/plain": [
       "<Figure size 640x480 with 1 Axes>"
      ]
     },
     "metadata": {},
     "output_type": "display_data"
    }
   ],
   "source": [
    "get_bootstrap_confidences(NN_best, X_test_nn, y_test)"
   ]
  },
  {
   "cell_type": "markdown",
   "metadata": {},
   "source": [
    "* Based on the images above, all models have **reasonable bias**, having *weighted f1* values between **80%** and **85%**, and ***variance*** values, concentrating accuracy samples **close to the baseline accuracy**. Therefore, the models have shown a **good effiency** on predicting the sarcasm on the dataset given the **56%-44% imbalance**.\n",
    "\n",
    "At this moment, the ***Friedman*** and ***Nemenyi*** tests is applied to check how **distinct** the models are between eachother relatively to the given **predicted labels**."
   ]
  },
  {
   "cell_type": "code",
   "execution_count": 109,
   "metadata": {},
   "outputs": [
    {
     "name": "stdout",
     "output_type": "stream",
     "text": [
      "          0         1         2\n",
      "0  1.000000  0.012310  0.139405\n",
      "1  0.012310  1.000000  0.609411\n",
      "2  0.139405  0.609411  1.000000\n"
     ]
    }
   ],
   "source": [
    "scores_nb = cross_val_score(NB_best, X_test_weighted, y_test, scoring='f1_weighted', cv=5)\n",
    "scores_rf = cross_val_score(RF_best, X_test_weighted, y_test, scoring='f1_weighted', cv=5)\n",
    "scores_nn = cross_val_score(NN_best, X_test_nn, y_test, scoring='f1_weighted', cv=5)\n",
    "\n",
    "scores = np.array([scores_nb, scores_rf, scores_nn]).T \n",
    "\n",
    "nemenyi_results = sp.posthoc_nemenyi_friedman(scores)\n",
    "\n",
    "print(nemenyi_results)"
   ]
  },
  {
   "cell_type": "code",
   "execution_count": 113,
   "metadata": {},
   "outputs": [
    {
     "data": {
      "image/png": "[encoded data removed]",
      "text/plain": [
       "<Figure size 640x480 with 2 Axes>"
      ]
     },
     "metadata": {},
     "output_type": "display_data"
    }
   ],
   "source": [
    "sns.heatmap(nemenyi_results, annot=True)\n",
    "\n",
    "\"\"\"\n",
    "1: Naive Bayes\n",
    "2: Random Forest\n",
    "3: Neural Network Embedding\n",
    "\"\"\"\n",
    "\n",
    "plt.show()"
   ]
  },
  {
   "cell_type": "markdown",
   "metadata": {},
   "source": [
    "* According to the graph, it is clear that the **most distinct models** are, in pairs, ***Naive Bayes*** and ***Random Forest*** and ***Naive Bayes*** and ***Neural Networks***, indicating that the ***Naive Bayes*** algorithm has a more **efficient adjustment** on the data set.\n",
    "\n",
    "Therefore, among all the trained models, it is possible to assume that the ***Naive Bayes*** algorithm presented a better behavior and handling on the data, showing the best **accuracy** and ***weighted f1*** value and is the **most different constructed model** among those examined.\n",
    "\n",
    "### Conclusion\n",
    "\n",
    "According to the modeling step, extracting discriminant features from titles is a very **feasible and efficient task** if well applied with machine learning tools and dataset manipulation. Thus, with an overall accuracy of ***~85%*** on the test set and **consistent recall and precision values** ​​without neglecting either class. **Naive Bayes** algorithm with a ***Bernoulli*** distribution emerged as the best-fit model to the dataset and the most distinctive model according to the ***Friedman*** and **bootstrap accuracy permutation tests**, with a confidence interval (95%) of accuracy **[0.8349, 0.8507]**.\n",
    "\n",
    "Therefore, the answer to the main question is: **yes**, it is possible to extract nice discriminant features from a human-readable text to obtain a reasonable prediction efficiency in a natural language processing task, either in a \"*heuristic*\" way, with the **frequency difference** between the observations of the target classes together with the **word count** in a line, or with a **neural network word embedding method**, despite the higher consumption of processing power."
   ]
  }
 ],
 "metadata": {
  "kernelspec": {
   "display_name": "Python 3 (ipykernel)",
   "language": "python",
   "name": "python3"
  },
  "language_info": {
   "codemirror_mode": {
    "name": "ipython",
    "version": 3
   },
   "file_extension": ".py",
   "mimetype": "text/x-python",
   "name": "python",
   "nbconvert_exporter": "python",
   "pygments_lexer": "ipython3",
   "version": "3.12.2"
  }
 },
 "nbformat": 4,
 "nbformat_minor": 4
}
