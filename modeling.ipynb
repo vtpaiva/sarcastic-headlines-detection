{
 "cells": [
  {
   "cell_type": "markdown",
   "metadata": {},
   "source": [
    "## ***Natural Languagem Processing*** to predict if a headline from a news website contains sarcasm - Data Modeling.\n",
    "\n",
    "In this file, there will the data modeling to get a model to predict the data and to be evaluated."
   ]
  },
  {
   "cell_type": "code",
   "execution_count": 257,
   "metadata": {},
   "outputs": [],
   "source": [
    "import pandas as pd, numpy as np, matplotlib.pyplot as plt, seaborn as sns\n",
    "\n",
    "from sklearn.feature_extraction.text import CountVectorizer\n",
    "from sklearn.preprocessing import StandardScaler\n",
    "from sklearn.model_selection import train_test_split\n",
    "from sklearn.naive_bayes import BernoulliNB\n",
    "from sklearn.ensemble import RandomForestClassifier\n",
    "from sklearn.model_selection import GridSearchCV, StratifiedKFold\n",
    "from sklearn.metrics import classification_report, accuracy_score\n",
    "from sklearn.decomposition import PCA\n",
    "\n",
    "from tensorflow.keras.models import Sequential\n",
    "from tensorflow.keras.layers import Embedding, Flatten, Dense, Dropout, Input\n",
    "from tensorflow.keras.preprocessing.text import Tokenizer\n",
    "from tensorflow.keras.preprocessing.sequence import pad_sequences\n",
    "from tensorflow.keras.regularizers import l2\n",
    "from scikeras.wrappers import KerasClassifier"
   ]
  },
  {
   "cell_type": "code",
   "execution_count": 4,
   "metadata": {},
   "outputs": [],
   "source": [
    "SAMPLE_FRACTION = 0.03\n",
    "TEST_SIZE = 0.33\n",
    "\n",
    "sns.set_style(\"darkgrid\")"
   ]
  },
  {
   "cell_type": "code",
   "execution_count": 5,
   "metadata": {},
   "outputs": [
    {
     "data": {
      "text/html": [
       "<div>\n",
       "<style scoped>\n",
       "    .dataframe tbody tr th:only-of-type {\n",
       "        vertical-align: middle;\n",
       "    }\n",
       "\n",
       "    .dataframe tbody tr th {\n",
       "        vertical-align: top;\n",
       "    }\n",
       "\n",
       "    .dataframe thead th {\n",
       "        text-align: right;\n",
       "    }\n",
       "</style>\n",
       "<table border=\"1\" class=\"dataframe\">\n",
       "  <thead>\n",
       "    <tr style=\"text-align: right;\">\n",
       "      <th></th>\n",
       "      <th>article_link</th>\n",
       "      <th>headline</th>\n",
       "      <th>is_sarcastic</th>\n",
       "    </tr>\n",
       "  </thead>\n",
       "  <tbody>\n",
       "    <tr>\n",
       "      <th>0</th>\n",
       "      <td>https://www.huffingtonpost.com/entry/versace-b...</td>\n",
       "      <td>former versace store clerk sues over secret 'b...</td>\n",
       "      <td>0</td>\n",
       "    </tr>\n",
       "    <tr>\n",
       "      <th>1</th>\n",
       "      <td>https://www.huffingtonpost.com/entry/roseanne-...</td>\n",
       "      <td>the 'roseanne' revival catches up to our thorn...</td>\n",
       "      <td>0</td>\n",
       "    </tr>\n",
       "    <tr>\n",
       "      <th>2</th>\n",
       "      <td>https://local.theonion.com/mom-starting-to-fea...</td>\n",
       "      <td>mom starting to fear son's web series closest ...</td>\n",
       "      <td>1</td>\n",
       "    </tr>\n",
       "    <tr>\n",
       "      <th>3</th>\n",
       "      <td>https://politics.theonion.com/boehner-just-wan...</td>\n",
       "      <td>boehner just wants wife to listen, not come up...</td>\n",
       "      <td>1</td>\n",
       "    </tr>\n",
       "    <tr>\n",
       "      <th>4</th>\n",
       "      <td>https://www.huffingtonpost.com/entry/jk-rowlin...</td>\n",
       "      <td>j.k. rowling wishes snape happy birthday in th...</td>\n",
       "      <td>0</td>\n",
       "    </tr>\n",
       "  </tbody>\n",
       "</table>\n",
       "</div>"
      ],
      "text/plain": [
       "                                        article_link  \\\n",
       "0  https://www.huffingtonpost.com/entry/versace-b...   \n",
       "1  https://www.huffingtonpost.com/entry/roseanne-...   \n",
       "2  https://local.theonion.com/mom-starting-to-fea...   \n",
       "3  https://politics.theonion.com/boehner-just-wan...   \n",
       "4  https://www.huffingtonpost.com/entry/jk-rowlin...   \n",
       "\n",
       "                                            headline  is_sarcastic  \n",
       "0  former versace store clerk sues over secret 'b...             0  \n",
       "1  the 'roseanne' revival catches up to our thorn...             0  \n",
       "2  mom starting to fear son's web series closest ...             1  \n",
       "3  boehner just wants wife to listen, not come up...             1  \n",
       "4  j.k. rowling wishes snape happy birthday in th...             0  "
      ]
     },
     "execution_count": 5,
     "metadata": {},
     "output_type": "execute_result"
    }
   ],
   "source": [
    "sarcasm_df = pd.read_csv('sarcasm.csv')\n",
    "\n",
    "sarcasm_df.head()"
   ]
  },
  {
   "cell_type": "code",
   "execution_count": 6,
   "metadata": {},
   "outputs": [],
   "source": [
    "X, y = sarcasm_df['headline'], sarcasm_df['is_sarcastic']\n",
    "\n",
    "X_train, X_test, y_train, y_test = train_test_split(\n",
    "                                                    X, \n",
    "                                                    y, \n",
    "                                                    test_size=TEST_SIZE, \n",
    "                                                    random_state=42, \n",
    "                                                    stratify=y\n",
    "                                                )\n",
    "\n",
    "train_data = pd.concat([X_train, y_train], axis=1)\n",
    "\n",
    "class_counts = sarcasm_df['is_sarcastic'].value_counts(normalize=True)\n",
    "train_data['weights'] = train_data['is_sarcastic'].map(class_counts)\n",
    "\n",
    "sampled_data = train_data.sample(frac=SAMPLE_FRACTION, random_state=42, weights='weights')\n",
    "\n",
    "X_train_sampled, y_train_sampled = sampled_data['headline'], sampled_data['is_sarcastic']\n",
    "\n",
    "scv = StratifiedKFold(n_splits=10, shuffle=True, random_state=42)"
   ]
  },
  {
   "cell_type": "code",
   "execution_count": 7,
   "metadata": {},
   "outputs": [],
   "source": [
    "vectorizer = CountVectorizer()\n",
    "\n",
    "X_train_vectorized = vectorizer.fit_transform(X_train)\n",
    "X_train_sampled_vectorized = vectorizer.transform(X_train_sampled)\n",
    "X_test_vectorized = vectorizer.transform(X_test)\n",
    "\n",
    "X_train_df = pd.DataFrame(\n",
    "    X_train_vectorized.toarray(),\n",
    "    columns=vectorizer.get_feature_names_out()\n",
    ")\n",
    "\n",
    "X_sampled_train_df = pd.DataFrame(\n",
    "    X_train_sampled_vectorized.toarray(),\n",
    "    columns=vectorizer.get_feature_names_out()\n",
    ")\n",
    "    \n",
    "X_test_df = pd.DataFrame(\n",
    "    X_test_vectorized.toarray(),\n",
    "    columns=vectorizer.get_feature_names_out()\n",
    ")\n",
    "\n",
    "class_0_counts = X_train_df[y_train.reset_index(drop=True) == 0].sum()\n",
    "class_1_counts = X_train_df[y_train.reset_index(drop=True) == 1].sum()\n",
    "\n",
    "word_diff = class_0_counts - class_1_counts\n",
    "\n",
    "word_weights = dict(zip(word_diff.index, word_diff.values))\n",
    "\n",
    "X_train_weighted = X_train_df.multiply(\n",
    "    X_train_df.columns.map(word_weights),\n",
    "    axis=1\n",
    ")\n",
    "\n",
    "X_train_sampled_weighted = X_sampled_train_df.multiply(\n",
    "    X_sampled_train_df.columns.map(word_weights),\n",
    "    axis=1\n",
    ")\n",
    "\n",
    "X_test_weighted = X_test_df.multiply(\n",
    "    X_test_df.columns.map(word_weights),\n",
    "    axis=1\n",
    ")"
   ]
  },
  {
   "cell_type": "code",
   "execution_count": 7,
   "metadata": {},
   "outputs": [],
   "source": [
    "stantard = StandardScaler()\n",
    "\n",
    "X_train_weighted = stantard.fit_transform(X_train_weighted)\n",
    "X_train_sampled_weighted = stantard.transform(X_train_sampled_weighted)\n",
    "X_test_weighted = stantard.transform(X_test_weighted)"
   ]
  },
  {
   "cell_type": "code",
   "execution_count": 18,
   "metadata": {},
   "outputs": [],
   "source": [
    "NB_model = BernoulliNB()\n",
    "\n",
    "NB_param_grid = {\n",
    "    'alpha': [0.5, 0.75, 1.0, 2.0]\n",
    "}\n",
    "\n",
    "NB_grid = GridSearchCV(\n",
    "    estimator=NB_model,\n",
    "    param_grid=NB_param_grid,\n",
    "    cv=scv,\n",
    "    n_jobs=2,\n",
    "    scoring='f1_weighted'\n",
    ").fit(X_train_sampled_weighted, y_train_sampled)"
   ]
  },
  {
   "cell_type": "code",
   "execution_count": 19,
   "metadata": {},
   "outputs": [
    {
     "data": {
      "text/plain": [
       "{'alpha': 0.5}"
      ]
     },
     "execution_count": 19,
     "metadata": {},
     "output_type": "execute_result"
    }
   ],
   "source": [
    "NB_grid.best_params_"
   ]
  },
  {
   "cell_type": "code",
   "execution_count": null,
   "metadata": {},
   "outputs": [],
   "source": [
    "NB_best = NB_grid.best_estimator_.fit(X_train_weighted, y_train)"
   ]
  },
  {
   "cell_type": "code",
   "execution_count": 21,
   "metadata": {},
   "outputs": [
    {
     "name": "stdout",
     "output_type": "stream",
     "text": [
      "              precision    recall  f1-score   support\n",
      "\n",
      "           0      0.940     0.961     0.950     10040\n",
      "           1      0.949     0.921     0.935      7855\n",
      "\n",
      "    accuracy                          0.944     17895\n",
      "   macro avg      0.944     0.941     0.943     17895\n",
      "weighted avg      0.944     0.944     0.944     17895\n",
      "\n",
      "              precision    recall  f1-score   support\n",
      "\n",
      "           0      0.835     0.895     0.864      4945\n",
      "           1      0.852     0.774     0.811      3869\n",
      "\n",
      "    accuracy                          0.842      8814\n",
      "   macro avg      0.844     0.834     0.838      8814\n",
      "weighted avg      0.843     0.842     0.841      8814\n",
      "\n"
     ]
    }
   ],
   "source": [
    "print(classification_report(y_train, NB_best.predict(X_train_weighted), digits=3))\n",
    "\n",
    "print(classification_report(y_test, NB_best.predict(X_test_weighted), digits=3))"
   ]
  },
  {
   "cell_type": "code",
   "execution_count": 264,
   "metadata": {},
   "outputs": [],
   "source": [
    "pca = PCA(n_components=2000)\n",
    "\n",
    "X_train_pca = pca.fit_transform(X_train_weighted)\n",
    "\n",
    "X_test_pca, X_train_sampled_pca = pca.transform(X_test_weighted), pca.transform(X_train_sampled_weighted)"
   ]
  },
  {
   "cell_type": "code",
   "execution_count": 266,
   "metadata": {},
   "outputs": [],
   "source": [
    "NB_model = BernoulliNB()\n",
    "\n",
    "NB_param_grid = {\n",
    "    'alpha': [0.5, 0.75, 1.0, 2.0]\n",
    "}\n",
    "\n",
    "NB_grid = GridSearchCV(\n",
    "    estimator=NB_model,\n",
    "    param_grid=NB_param_grid,\n",
    "    cv=scv,\n",
    "    n_jobs=2,\n",
    "    scoring='f1_weighted'\n",
    ").fit(X_train_sampled_pca, y_train_sampled)"
   ]
  },
  {
   "cell_type": "code",
   "execution_count": 267,
   "metadata": {},
   "outputs": [
    {
     "data": {
      "text/plain": [
       "{'alpha': 0.5}"
      ]
     },
     "execution_count": 267,
     "metadata": {},
     "output_type": "execute_result"
    }
   ],
   "source": [
    "NB_grid.best_params_"
   ]
  },
  {
   "cell_type": "code",
   "execution_count": 268,
   "metadata": {},
   "outputs": [],
   "source": [
    "NB_best = NB_grid.best_estimator_.fit(X_train_pca, y_train)"
   ]
  },
  {
   "cell_type": "code",
   "execution_count": 269,
   "metadata": {},
   "outputs": [
    {
     "name": "stdout",
     "output_type": "stream",
     "text": [
      "              precision    recall  f1-score   support\n",
      "\n",
      "           0      0.728     0.752     0.740     10040\n",
      "           1      0.670     0.642     0.655      7855\n",
      "\n",
      "    accuracy                          0.704     17895\n",
      "   macro avg      0.699     0.697     0.698     17895\n",
      "weighted avg      0.703     0.704     0.703     17895\n",
      "\n",
      "              precision    recall  f1-score   support\n",
      "\n",
      "           0      0.715     0.717     0.716      4945\n",
      "           1      0.637     0.634     0.636      3869\n",
      "\n",
      "    accuracy                          0.681      8814\n",
      "   macro avg      0.676     0.676     0.676      8814\n",
      "weighted avg      0.680     0.681     0.681      8814\n",
      "\n"
     ]
    }
   ],
   "source": [
    "print(classification_report(y_train, NB_best.predict(X_train_pca), digits=3))\n",
    "\n",
    "print(classification_report(y_test, NB_best.predict(X_test_pca), digits=3))"
   ]
  },
  {
   "cell_type": "code",
   "execution_count": null,
   "metadata": {},
   "outputs": [],
   "source": [
    "RF_model = RandomForestClassifier(n_jobs=2, verbose=2)\n",
    "\n",
    "RF_param_grid = {\n",
    "    'n_estimators': [50, 100, 200],\n",
    "    'criterion': ['gini', 'log_loss', 'entropy'],\n",
    "    'class_weight': [None, 'balanced']\n",
    "}\n",
    "\n",
    "RF_grid = GridSearchCV(\n",
    "                estimator=RF_model,\n",
    "                param_grid=RF_param_grid,\n",
    "                cv=scv,\n",
    "                n_jobs=2,\n",
    "                scoring='f1_weighted',\n",
    "                verbose=2\n",
    "            ).fit(X_train_sampled_weighted, y_train_sampled)"
   ]
  },
  {
   "cell_type": "code",
   "execution_count": 26,
   "metadata": {},
   "outputs": [
    {
     "data": {
      "text/plain": [
       "{'class_weight': 'balanced', 'criterion': 'gini', 'n_estimators': 200}"
      ]
     },
     "execution_count": 26,
     "metadata": {},
     "output_type": "execute_result"
    }
   ],
   "source": [
    "RF_grid.best_params_"
   ]
  },
  {
   "cell_type": "code",
   "execution_count": null,
   "metadata": {
    "scrolled": true
   },
   "outputs": [],
   "source": [
    "RF_best = RF_grid.best_estimator_.fit(X_train_weighted, y_train)"
   ]
  },
  {
   "cell_type": "code",
   "execution_count": 28,
   "metadata": {},
   "outputs": [
    {
     "name": "stderr",
     "output_type": "stream",
     "text": [
      "[Parallel(n_jobs=2)]: Using backend ThreadingBackend with 2 concurrent workers.\n",
      "[Parallel(n_jobs=2)]: Done  37 tasks      | elapsed:    0.8s\n",
      "[Parallel(n_jobs=2)]: Done 158 tasks      | elapsed:    3.0s\n",
      "[Parallel(n_jobs=2)]: Done 200 out of 200 | elapsed:    3.7s finished\n"
     ]
    },
    {
     "name": "stdout",
     "output_type": "stream",
     "text": [
      "              precision    recall  f1-score   support\n",
      "\n",
      "           0      1.000     1.000     1.000     10040\n",
      "           1      1.000     1.000     1.000      7855\n",
      "\n",
      "    accuracy                          1.000     17895\n",
      "   macro avg      1.000     1.000     1.000     17895\n",
      "weighted avg      1.000     1.000     1.000     17895\n",
      "\n"
     ]
    },
    {
     "name": "stderr",
     "output_type": "stream",
     "text": [
      "[Parallel(n_jobs=2)]: Using backend ThreadingBackend with 2 concurrent workers.\n",
      "[Parallel(n_jobs=2)]: Done  37 tasks      | elapsed:    0.4s\n",
      "[Parallel(n_jobs=2)]: Done 158 tasks      | elapsed:    1.5s\n"
     ]
    },
    {
     "name": "stdout",
     "output_type": "stream",
     "text": [
      "              precision    recall  f1-score   support\n",
      "\n",
      "           0      0.845     0.804     0.824      4945\n",
      "           1      0.764     0.811     0.787      3869\n",
      "\n",
      "    accuracy                          0.807      8814\n",
      "   macro avg      0.804     0.807     0.805      8814\n",
      "weighted avg      0.809     0.807     0.808      8814\n",
      "\n"
     ]
    },
    {
     "name": "stderr",
     "output_type": "stream",
     "text": [
      "[Parallel(n_jobs=2)]: Done 200 out of 200 | elapsed:    1.9s finished\n"
     ]
    }
   ],
   "source": [
    "print(classification_report(y_train, RF_best.predict(X_train_weighted), digits=3))\n",
    "\n",
    "print(classification_report(y_test, RF_best.predict(X_test_weighted), digits=3))"
   ]
  },
  {
   "cell_type": "code",
   "execution_count": null,
   "metadata": {
    "scrolled": true
   },
   "outputs": [],
   "source": [
    "RF_model = RandomForestClassifier(n_jobs=2, class_weight='balanced', n_estimators=200, verbose=2)\n",
    "\n",
    "RF_param_grid = {\n",
    "    'max_depth': [2000, 1000, 500],\n",
    "    'min_samples_leaf': [5, 4, 3]\n",
    "}\n",
    "\n",
    "RF_grid = GridSearchCV(\n",
    "                estimator=RF_model,\n",
    "                param_grid=RF_param_grid,\n",
    "                cv=scv,\n",
    "                n_jobs=2,\n",
    "                scoring='f1_weighted'\n",
    "            ).fit(X_train_sampled_weighted, y_train_sampled)"
   ]
  },
  {
   "cell_type": "code",
   "execution_count": 31,
   "metadata": {},
   "outputs": [
    {
     "data": {
      "text/plain": [
       "{'max_depth': 500, 'min_samples_leaf': 3}"
      ]
     },
     "execution_count": 31,
     "metadata": {},
     "output_type": "execute_result"
    }
   ],
   "source": [
    "RF_grid.best_params_"
   ]
  },
  {
   "cell_type": "code",
   "execution_count": null,
   "metadata": {},
   "outputs": [],
   "source": [
    "RF_best = RF_grid.best_estimator_.fit(X_train_weighted, y_train)"
   ]
  },
  {
   "cell_type": "code",
   "execution_count": null,
   "metadata": {},
   "outputs": [],
   "source": [
    "print(classification_report(y_train, RF_best.predict(X_train_weighted), digits=3))\n",
    "\n",
    "print(classification_report(y_test, RF_best.predict(X_test_weighted), digits=3))"
   ]
  },
  {
   "cell_type": "code",
   "execution_count": 34,
   "metadata": {},
   "outputs": [
    {
     "data": {
      "image/png": "[encoded data removed]",
      "text/plain": [
       "<Figure size 640x480 with 1 Axes>"
      ]
     },
     "metadata": {},
     "output_type": "display_data"
    }
   ],
   "source": [
    "feat_importances = pd.Series(RF_best.feature_importances_, index=X_train_df.columns)\n",
    "feat_importances.nlargest(15).sort_values().plot(kind='barh')\n",
    "\n",
    "sns.despine()\n",
    "plt.show()"
   ]
  },
  {
   "cell_type": "markdown",
   "metadata": {},
   "source": [
    "## Neural Networks"
   ]
  },
  {
   "cell_type": "code",
   "execution_count": 239,
   "metadata": {},
   "outputs": [],
   "source": [
    "X, y = sarcasm_df['headline'], sarcasm_df['is_sarcastic']\n",
    "\n",
    "X_train, X_test, y_train, y_test = train_test_split(\n",
    "                                                    X, \n",
    "                                                    y, \n",
    "                                                    test_size=TEST_SIZE, \n",
    "                                                    random_state=42, \n",
    "                                                    stratify=y\n",
    "                                                )"
   ]
  },
  {
   "cell_type": "code",
   "execution_count": 240,
   "metadata": {},
   "outputs": [],
   "source": [
    "tokenizer = Tokenizer(num_words=5000)\n",
    "tokenizer.fit_on_texts(X_train)\n",
    "X_train, X_test = tokenizer.texts_to_sequences(X_train), tokenizer.texts_to_sequences(X_test)\n",
    "\n",
    "sequences = X_train + X_test\n",
    "\n",
    "vocab_size = len(tokenizer.word_index) + 1  \n",
    "\n",
    "max_len = max(len(seq) for seq in sequences)\n",
    "\n",
    "X_train = pad_sequences(X_train, maxlen=max_len, padding='post')\n",
    "X_test = pad_sequences(X_test, maxlen=max_len, padding='post')"
   ]
  },
  {
   "cell_type": "code",
   "execution_count": 241,
   "metadata": {},
   "outputs": [],
   "source": [
    "train_data = pd.DataFrame({'X': list(X_train), 'is_sarcastic': y_train.tolist()})\n",
    "\n",
    "sampled_data = train_data.groupby('is_sarcastic')[['X', 'is_sarcastic']].apply(\n",
    "    lambda group: group.sample(frac=SAMPLE_FRACTION, random_state=42)\n",
    ")\n",
    "\n",
    "X_train_sampled, y_train_sampled = np.array(sampled_data['X'].tolist()), np.array(sampled_data['is_sarcastic'])"
   ]
  },
  {
   "cell_type": "code",
   "execution_count": null,
   "metadata": {},
   "outputs": [],
   "source": [
    "def create_model(vocab_size, embedding_dim, input_length, learning_rate=0.001, dropout_rate=0.5, l2_rate=0.05, **kwargs):\n",
    "    model = Sequential([\n",
    "        Input(shape=(input_length,)),  \n",
    "        Embedding(input_dim=vocab_size, output_dim=embedding_dim),\n",
    "        Flatten(),\n",
    "        Dense(32, activation='relu', kernel_regularizer=l2(l2_rate)),\n",
    "        Dropout(dropout_rate),\n",
    "        Dense(32, activation='relu', kernel_regularizer=l2(l2_rate)),\n",
    "        Dropout(dropout_rate / 3),\n",
    "        Dense(32, activation='relu', kernel_regularizer=l2(l2_rate)),\n",
    "        Dropout(dropout_rate / 6),\n",
    "        Dense(1, activation='sigmoid') \n",
    "    ])\n",
    "\n",
    "    model.compile(optimizer='adam', loss='binary_crossentropy', metrics=['accuracy'])\n",
    "\n",
    "    return model\n",
    "\n",
    "sequence_length = X_train.shape[1]\n",
    "\n",
    "keras_model = KerasClassifier(\n",
    "    model=create_model,\n",
    "    model__vocab_size=vocab_size,         \n",
    "    model__embedding_dim=5,               \n",
    "    model__input_length=sequence_length,  \n",
    "    verbose=0\n",
    ")\n",
    "\n",
    "param_grid = {\n",
    "    'model__l2_rate': [0.01, 0.05], \n",
    "    'model__dropout_rate': [0.1, 0.3],\n",
    "    'fit__batch_size': [16, 24],     \n",
    "    'fit__epochs': [10, 20]         \n",
    "}\n",
    "\n",
    "scv = StratifiedKFold(n_splits=5, shuffle=True, random_state=42)\n",
    "\n",
    "grid = GridSearchCV(estimator=keras_model, param_grid=param_grid, cv=scv, scoring='f1_weighted')\n",
    "\n",
    "grid_result = grid.fit(X_train_sampled, y_train_sampled)"
   ]
  },
  {
   "cell_type": "code",
   "execution_count": 250,
   "metadata": {},
   "outputs": [
    {
     "data": {
      "text/plain": [
       "{'fit__batch_size': 24,\n",
       " 'fit__epochs': 20,\n",
       " 'model__dropout_rate': 0.3,\n",
       " 'model__l2_rate': 0.01}"
      ]
     },
     "execution_count": 250,
     "metadata": {},
     "output_type": "execute_result"
    }
   ],
   "source": [
    "grid_result.best_params_"
   ]
  },
  {
   "cell_type": "code",
   "execution_count": 251,
   "metadata": {},
   "outputs": [],
   "source": [
    "NN_best = grid_result.best_estimator_.fit(X_train, y_train)"
   ]
  },
  {
   "cell_type": "code",
   "execution_count": 253,
   "metadata": {},
   "outputs": [
    {
     "name": "stdout",
     "output_type": "stream",
     "text": [
      "              precision    recall  f1-score   support\n",
      "\n",
      "           0      0.819     0.851     0.835      4945\n",
      "           1      0.799     0.760     0.779      3869\n",
      "\n",
      "    accuracy                          0.811      8814\n",
      "   macro avg      0.809     0.805     0.807      8814\n",
      "weighted avg      0.810     0.811     0.810      8814\n",
      "\n"
     ]
    }
   ],
   "source": [
    "print(classification_report(y_test, NN_best.predict(X_test), digits=3))"
   ]
  },
  {
   "cell_type": "code",
   "execution_count": null,
   "metadata": {},
   "outputs": [],
   "source": [
    "def fit_nn_model(embedding_dim, best_params):\n",
    "    model = create_model(\n",
    "    vocab_size=vocab_size,\n",
    "    embedding_dim=embedding_dim,  \n",
    "    input_length=sequence_length,\n",
    "    learning_rate=0.001,  \n",
    "    dropout_rate=best_params['model__dropout_rate'],  \n",
    "    l2_rate=best_params['model__l2_rate']  \n",
    ")\n",
    "   \n",
    "    model.compile(optimizer='adam', loss='binary_crossentropy', metrics=['accuracy'])\n",
    "\n",
    "    model.fit(\n",
    "            X_train, y_train,\n",
    "            batch_size=best_params['fit__batch_size'],  \n",
    "            epochs=best_params['fit__epochs'],  \n",
    "            validation_split=0.2,  \n",
    "            verbose=1\n",
    "        )\n",
    "\n",
    "    return accuracy_score(y_train, model.predict(X_train).round()), accuracy_score(y_test, model.predict(X_test).round())"
   ]
  },
  {
   "cell_type": "code",
   "execution_count": 256,
   "metadata": {},
   "outputs": [
    {
     "name": "stdout",
     "output_type": "stream",
     "text": [
      "Epoch 1/20\n",
      "\u001b[1m597/597\u001b[0m \u001b[32m━━━━━━━━━━━━━━━━━━━━\u001b[0m\u001b[37m\u001b[0m \u001b[1m2s\u001b[0m 2ms/step - accuracy: 0.6212 - loss: 0.7721 - val_accuracy: 0.8262 - val_loss: 0.4048\n",
      "Epoch 2/20\n",
      "\u001b[1m597/597\u001b[0m \u001b[32m━━━━━━━━━━━━━━━━━━━━\u001b[0m\u001b[37m\u001b[0m \u001b[1m1s\u001b[0m 2ms/step - accuracy: 0.8887 - loss: 0.3113 - val_accuracy: 0.8399 - val_loss: 0.3938\n",
      "Epoch 3/20\n",
      "\u001b[1m597/597\u001b[0m \u001b[32m━━━━━━━━━━━━━━━━━━━━\u001b[0m\u001b[37m\u001b[0m \u001b[1m1s\u001b[0m 2ms/step - accuracy: 0.9397 - loss: 0.2006 - val_accuracy: 0.8371 - val_loss: 0.4286\n",
      "Epoch 4/20\n",
      "\u001b[1m597/597\u001b[0m \u001b[32m━━━━━━━━━━━━━━━━━━━━\u001b[0m\u001b[37m\u001b[0m \u001b[1m1s\u001b[0m 2ms/step - accuracy: 0.9660 - loss: 0.1337 - val_accuracy: 0.8223 - val_loss: 0.5043\n",
      "Epoch 5/20\n",
      "\u001b[1m597/597\u001b[0m \u001b[32m━━━━━━━━━━━━━━━━━━━━\u001b[0m\u001b[37m\u001b[0m \u001b[1m1s\u001b[0m 2ms/step - accuracy: 0.9771 - loss: 0.0947 - val_accuracy: 0.8206 - val_loss: 0.5886\n",
      "Epoch 6/20\n",
      "\u001b[1m597/597\u001b[0m \u001b[32m━━━━━━━━━━━━━━━━━━━━\u001b[0m\u001b[37m\u001b[0m \u001b[1m1s\u001b[0m 2ms/step - accuracy: 0.9853 - loss: 0.0666 - val_accuracy: 0.8153 - val_loss: 0.7401\n",
      "Epoch 7/20\n",
      "\u001b[1m597/597\u001b[0m \u001b[32m━━━━━━━━━━━━━━━━━━━━\u001b[0m\u001b[37m\u001b[0m \u001b[1m1s\u001b[0m 2ms/step - accuracy: 0.9914 - loss: 0.0455 - val_accuracy: 0.8122 - val_loss: 0.8291\n",
      "Epoch 8/20\n",
      "\u001b[1m597/597\u001b[0m \u001b[32m━━━━━━━━━━━━━━━━━━━━\u001b[0m\u001b[37m\u001b[0m \u001b[1m1s\u001b[0m 2ms/step - accuracy: 0.9919 - loss: 0.0420 - val_accuracy: 0.8148 - val_loss: 0.9232\n",
      "Epoch 9/20\n",
      "\u001b[1m597/597\u001b[0m \u001b[32m━━━━━━━━━━━━━━━━━━━━\u001b[0m\u001b[37m\u001b[0m \u001b[1m1s\u001b[0m 2ms/step - accuracy: 0.9936 - loss: 0.0377 - val_accuracy: 0.8114 - val_loss: 0.9764\n",
      "Epoch 10/20\n",
      "\u001b[1m597/597\u001b[0m \u001b[32m━━━━━━━━━━━━━━━━━━━━\u001b[0m\u001b[37m\u001b[0m \u001b[1m1s\u001b[0m 2ms/step - accuracy: 0.9950 - loss: 0.0330 - val_accuracy: 0.8106 - val_loss: 0.8291\n",
      "Epoch 11/20\n",
      "\u001b[1m597/597\u001b[0m \u001b[32m━━━━━━━━━━━━━━━━━━━━\u001b[0m\u001b[37m\u001b[0m \u001b[1m1s\u001b[0m 2ms/step - accuracy: 0.9959 - loss: 0.0295 - val_accuracy: 0.8078 - val_loss: 1.0531\n",
      "Epoch 12/20\n",
      "\u001b[1m597/597\u001b[0m \u001b[32m━━━━━━━━━━━━━━━━━━━━\u001b[0m\u001b[37m\u001b[0m \u001b[1m1s\u001b[0m 2ms/step - accuracy: 0.9961 - loss: 0.0270 - val_accuracy: 0.8120 - val_loss: 1.0304\n",
      "Epoch 13/20\n",
      "\u001b[1m597/597\u001b[0m \u001b[32m━━━━━━━━━━━━━━━━━━━━\u001b[0m\u001b[37m\u001b[0m \u001b[1m1s\u001b[0m 2ms/step - accuracy: 0.9953 - loss: 0.0298 - val_accuracy: 0.8044 - val_loss: 1.1455\n",
      "Epoch 14/20\n",
      "\u001b[1m597/597\u001b[0m \u001b[32m━━━━━━━━━━━━━━━━━━━━\u001b[0m\u001b[37m\u001b[0m \u001b[1m1s\u001b[0m 2ms/step - accuracy: 0.9966 - loss: 0.0235 - val_accuracy: 0.7997 - val_loss: 1.0571\n",
      "Epoch 15/20\n",
      "\u001b[1m597/597\u001b[0m \u001b[32m━━━━━━━━━━━━━━━━━━━━\u001b[0m\u001b[37m\u001b[0m \u001b[1m1s\u001b[0m 2ms/step - accuracy: 0.9968 - loss: 0.0244 - val_accuracy: 0.8100 - val_loss: 1.2864\n",
      "Epoch 16/20\n",
      "\u001b[1m597/597\u001b[0m \u001b[32m━━━━━━━━━━━━━━━━━━━━\u001b[0m\u001b[37m\u001b[0m \u001b[1m1s\u001b[0m 2ms/step - accuracy: 0.9971 - loss: 0.0236 - val_accuracy: 0.7994 - val_loss: 1.2632\n",
      "Epoch 17/20\n",
      "\u001b[1m597/597\u001b[0m \u001b[32m━━━━━━━━━━━━━━━━━━━━\u001b[0m\u001b[37m\u001b[0m \u001b[1m1s\u001b[0m 2ms/step - accuracy: 0.9978 - loss: 0.0210 - val_accuracy: 0.8005 - val_loss: 1.2298\n",
      "Epoch 18/20\n",
      "\u001b[1m597/597\u001b[0m \u001b[32m━━━━━━━━━━━━━━━━━━━━\u001b[0m\u001b[37m\u001b[0m \u001b[1m1s\u001b[0m 2ms/step - accuracy: 0.9962 - loss: 0.0247 - val_accuracy: 0.7924 - val_loss: 1.2194\n",
      "Epoch 19/20\n",
      "\u001b[1m597/597\u001b[0m \u001b[32m━━━━━━━━━━━━━━━━━━━━\u001b[0m\u001b[37m\u001b[0m \u001b[1m1s\u001b[0m 2ms/step - accuracy: 0.9974 - loss: 0.0228 - val_accuracy: 0.7958 - val_loss: 1.2503\n",
      "Epoch 20/20\n",
      "\u001b[1m597/597\u001b[0m \u001b[32m━━━━━━━━━━━━━━━━━━━━\u001b[0m\u001b[37m\u001b[0m \u001b[1m1s\u001b[0m 2ms/step - accuracy: 0.9961 - loss: 0.0266 - val_accuracy: 0.7985 - val_loss: 1.2460\n",
      "\u001b[1m560/560\u001b[0m \u001b[32m━━━━━━━━━━━━━━━━━━━━\u001b[0m\u001b[37m\u001b[0m \u001b[1m0s\u001b[0m 662us/step\n",
      "\u001b[1m276/276\u001b[0m \u001b[32m━━━━━━━━━━━━━━━━━━━━\u001b[0m\u001b[37m\u001b[0m \u001b[1m0s\u001b[0m 446us/step\n",
      "Epoch 1/20\n",
      "\u001b[1m597/597\u001b[0m \u001b[32m━━━━━━━━━━━━━━━━━━━━\u001b[0m\u001b[37m\u001b[0m \u001b[1m3s\u001b[0m 3ms/step - accuracy: 0.6615 - loss: 0.7306 - val_accuracy: 0.8374 - val_loss: 0.3852\n",
      "Epoch 2/20\n",
      "\u001b[1m597/597\u001b[0m \u001b[32m━━━━━━━━━━━━━━━━━━━━\u001b[0m\u001b[37m\u001b[0m \u001b[1m2s\u001b[0m 3ms/step - accuracy: 0.9015 - loss: 0.2848 - val_accuracy: 0.8365 - val_loss: 0.3899\n",
      "Epoch 3/20\n",
      "\u001b[1m597/597\u001b[0m \u001b[32m━━━━━━━━━━━━━━━━━━━━\u001b[0m\u001b[37m\u001b[0m \u001b[1m2s\u001b[0m 3ms/step - accuracy: 0.9466 - loss: 0.1814 - val_accuracy: 0.8340 - val_loss: 0.4369\n",
      "Epoch 4/20\n",
      "\u001b[1m597/597\u001b[0m \u001b[32m━━━━━━━━━━━━━━━━━━━━\u001b[0m\u001b[37m\u001b[0m \u001b[1m2s\u001b[0m 4ms/step - accuracy: 0.9738 - loss: 0.1124 - val_accuracy: 0.8287 - val_loss: 0.5402\n",
      "Epoch 5/20\n",
      "\u001b[1m597/597\u001b[0m \u001b[32m━━━━━━━━━━━━━━━━━━━━\u001b[0m\u001b[37m\u001b[0m \u001b[1m2s\u001b[0m 3ms/step - accuracy: 0.9871 - loss: 0.0696 - val_accuracy: 0.8164 - val_loss: 0.6677\n",
      "Epoch 6/20\n",
      "\u001b[1m597/597\u001b[0m \u001b[32m━━━━━━━━━━━━━━━━━━━━\u001b[0m\u001b[37m\u001b[0m \u001b[1m2s\u001b[0m 3ms/step - accuracy: 0.9900 - loss: 0.0605 - val_accuracy: 0.8164 - val_loss: 0.7909\n",
      "Epoch 7/20\n",
      "\u001b[1m597/597\u001b[0m \u001b[32m━━━━━━━━━━━━━━━━━━━━\u001b[0m\u001b[37m\u001b[0m \u001b[1m2s\u001b[0m 3ms/step - accuracy: 0.9945 - loss: 0.0418 - val_accuracy: 0.8111 - val_loss: 0.8837\n",
      "Epoch 8/20\n",
      "\u001b[1m597/597\u001b[0m \u001b[32m━━━━━━━━━━━━━━━━━━━━\u001b[0m\u001b[37m\u001b[0m \u001b[1m2s\u001b[0m 3ms/step - accuracy: 0.9934 - loss: 0.0422 - val_accuracy: 0.8094 - val_loss: 0.9198\n",
      "Epoch 9/20\n",
      "\u001b[1m597/597\u001b[0m \u001b[32m━━━━━━━━━━━━━━━━━━━━\u001b[0m\u001b[37m\u001b[0m \u001b[1m2s\u001b[0m 3ms/step - accuracy: 0.9972 - loss: 0.0304 - val_accuracy: 0.8159 - val_loss: 0.9147\n",
      "Epoch 10/20\n",
      "\u001b[1m597/597\u001b[0m \u001b[32m━━━━━━━━━━━━━━━━━━━━\u001b[0m\u001b[37m\u001b[0m \u001b[1m2s\u001b[0m 3ms/step - accuracy: 0.9960 - loss: 0.0349 - val_accuracy: 0.8106 - val_loss: 1.0551\n",
      "Epoch 11/20\n",
      "\u001b[1m597/597\u001b[0m \u001b[32m━━━━━━━━━━━━━━━━━━━━\u001b[0m\u001b[37m\u001b[0m \u001b[1m2s\u001b[0m 3ms/step - accuracy: 0.9968 - loss: 0.0260 - val_accuracy: 0.8170 - val_loss: 0.9201\n",
      "Epoch 12/20\n",
      "\u001b[1m597/597\u001b[0m \u001b[32m━━━━━━━━━━━━━━━━━━━━\u001b[0m\u001b[37m\u001b[0m \u001b[1m2s\u001b[0m 3ms/step - accuracy: 0.9965 - loss: 0.0296 - val_accuracy: 0.8156 - val_loss: 0.9438\n",
      "Epoch 13/20\n",
      "\u001b[1m597/597\u001b[0m \u001b[32m━━━━━━━━━━━━━━━━━━━━\u001b[0m\u001b[37m\u001b[0m \u001b[1m2s\u001b[0m 3ms/step - accuracy: 0.9970 - loss: 0.0298 - val_accuracy: 0.8125 - val_loss: 1.0964\n",
      "Epoch 14/20\n",
      "\u001b[1m597/597\u001b[0m \u001b[32m━━━━━━━━━━━━━━━━━━━━\u001b[0m\u001b[37m\u001b[0m \u001b[1m2s\u001b[0m 3ms/step - accuracy: 0.9969 - loss: 0.0276 - val_accuracy: 0.8125 - val_loss: 1.1053\n",
      "Epoch 15/20\n",
      "\u001b[1m597/597\u001b[0m \u001b[32m━━━━━━━━━━━━━━━━━━━━\u001b[0m\u001b[37m\u001b[0m \u001b[1m2s\u001b[0m 3ms/step - accuracy: 0.9972 - loss: 0.0245 - val_accuracy: 0.8044 - val_loss: 1.2296\n",
      "Epoch 16/20\n",
      "\u001b[1m597/597\u001b[0m \u001b[32m━━━━━━━━━━━━━━━━━━━━\u001b[0m\u001b[37m\u001b[0m \u001b[1m2s\u001b[0m 3ms/step - accuracy: 0.9956 - loss: 0.0343 - val_accuracy: 0.8061 - val_loss: 1.1717\n",
      "Epoch 17/20\n",
      "\u001b[1m597/597\u001b[0m \u001b[32m━━━━━━━━━━━━━━━━━━━━\u001b[0m\u001b[37m\u001b[0m \u001b[1m2s\u001b[0m 3ms/step - accuracy: 0.9956 - loss: 0.0336 - val_accuracy: 0.8080 - val_loss: 1.1072\n",
      "Epoch 18/20\n",
      "\u001b[1m597/597\u001b[0m \u001b[32m━━━━━━━━━━━━━━━━━━━━\u001b[0m\u001b[37m\u001b[0m \u001b[1m2s\u001b[0m 3ms/step - accuracy: 0.9973 - loss: 0.0326 - val_accuracy: 0.8175 - val_loss: 1.1795\n",
      "Epoch 19/20\n",
      "\u001b[1m597/597\u001b[0m \u001b[32m━━━━━━━━━━━━━━━━━━━━\u001b[0m\u001b[37m\u001b[0m \u001b[1m2s\u001b[0m 3ms/step - accuracy: 0.9965 - loss: 0.0285 - val_accuracy: 0.8089 - val_loss: 1.2290\n",
      "Epoch 20/20\n",
      "\u001b[1m597/597\u001b[0m \u001b[32m━━━━━━━━━━━━━━━━━━━━\u001b[0m\u001b[37m\u001b[0m \u001b[1m2s\u001b[0m 3ms/step - accuracy: 0.9981 - loss: 0.0251 - val_accuracy: 0.8033 - val_loss: 1.2678\n",
      "\u001b[1m560/560\u001b[0m \u001b[32m━━━━━━━━━━━━━━━━━━━━\u001b[0m\u001b[37m\u001b[0m \u001b[1m0s\u001b[0m 771us/step\n",
      "\u001b[1m276/276\u001b[0m \u001b[32m━━━━━━━━━━━━━━━━━━━━\u001b[0m\u001b[37m\u001b[0m \u001b[1m0s\u001b[0m 704us/step\n",
      "Epoch 1/20\n",
      "\u001b[1m597/597\u001b[0m \u001b[32m━━━━━━━━━━━━━━━━━━━━\u001b[0m\u001b[37m\u001b[0m \u001b[1m4s\u001b[0m 4ms/step - accuracy: 0.6233 - loss: 0.7438 - val_accuracy: 0.8430 - val_loss: 0.3809\n",
      "Epoch 2/20\n",
      "\u001b[1m597/597\u001b[0m \u001b[32m━━━━━━━━━━━━━━━━━━━━\u001b[0m\u001b[37m\u001b[0m \u001b[1m2s\u001b[0m 4ms/step - accuracy: 0.8918 - loss: 0.3070 - val_accuracy: 0.8486 - val_loss: 0.3867\n",
      "Epoch 3/20\n",
      "\u001b[1m597/597\u001b[0m \u001b[32m━━━━━━━━━━━━━━━━━━━━\u001b[0m\u001b[37m\u001b[0m \u001b[1m3s\u001b[0m 4ms/step - accuracy: 0.9459 - loss: 0.1878 - val_accuracy: 0.8307 - val_loss: 0.4651\n",
      "Epoch 4/20\n",
      "\u001b[1m597/597\u001b[0m \u001b[32m━━━━━━━━━━━━━━━━━━━━\u001b[0m\u001b[37m\u001b[0m \u001b[1m3s\u001b[0m 5ms/step - accuracy: 0.9724 - loss: 0.1123 - val_accuracy: 0.8321 - val_loss: 0.5756\n",
      "Epoch 5/20\n",
      "\u001b[1m597/597\u001b[0m \u001b[32m━━━━━━━━━━━━━━━━━━━━\u001b[0m\u001b[37m\u001b[0m \u001b[1m3s\u001b[0m 4ms/step - accuracy: 0.9868 - loss: 0.0717 - val_accuracy: 0.8206 - val_loss: 0.6724\n",
      "Epoch 6/20\n",
      "\u001b[1m597/597\u001b[0m \u001b[32m━━━━━━━━━━━━━━━━━━━━\u001b[0m\u001b[37m\u001b[0m \u001b[1m3s\u001b[0m 5ms/step - accuracy: 0.9915 - loss: 0.0499 - val_accuracy: 0.8223 - val_loss: 0.8252\n",
      "Epoch 7/20\n",
      "\u001b[1m597/597\u001b[0m \u001b[32m━━━━━━━━━━━━━━━━━━━━\u001b[0m\u001b[37m\u001b[0m \u001b[1m2s\u001b[0m 4ms/step - accuracy: 0.9932 - loss: 0.0407 - val_accuracy: 0.8217 - val_loss: 0.8505\n",
      "Epoch 8/20\n",
      "\u001b[1m597/597\u001b[0m \u001b[32m━━━━━━━━━━━━━━━━━━━━\u001b[0m\u001b[37m\u001b[0m \u001b[1m2s\u001b[0m 3ms/step - accuracy: 0.9943 - loss: 0.0399 - val_accuracy: 0.8125 - val_loss: 0.9326\n",
      "Epoch 9/20\n",
      "\u001b[1m597/597\u001b[0m \u001b[32m━━━━━━━━━━━━━━━━━━━━\u001b[0m\u001b[37m\u001b[0m \u001b[1m2s\u001b[0m 3ms/step - accuracy: 0.9933 - loss: 0.0432 - val_accuracy: 0.8234 - val_loss: 0.9550\n",
      "Epoch 10/20\n",
      "\u001b[1m597/597\u001b[0m \u001b[32m━━━━━━━━━━━━━━━━━━━━\u001b[0m\u001b[37m\u001b[0m \u001b[1m2s\u001b[0m 3ms/step - accuracy: 0.9955 - loss: 0.0344 - val_accuracy: 0.8181 - val_loss: 0.9966\n",
      "Epoch 11/20\n",
      "\u001b[1m597/597\u001b[0m \u001b[32m━━━━━━━━━━━━━━━━━━━━\u001b[0m\u001b[37m\u001b[0m \u001b[1m2s\u001b[0m 3ms/step - accuracy: 0.9967 - loss: 0.0314 - val_accuracy: 0.8187 - val_loss: 0.9259\n",
      "Epoch 12/20\n",
      "\u001b[1m597/597\u001b[0m \u001b[32m━━━━━━━━━━━━━━━━━━━━\u001b[0m\u001b[37m\u001b[0m \u001b[1m2s\u001b[0m 3ms/step - accuracy: 0.9949 - loss: 0.0376 - val_accuracy: 0.8097 - val_loss: 1.0978\n",
      "Epoch 13/20\n",
      "\u001b[1m597/597\u001b[0m \u001b[32m━━━━━━━━━━━━━━━━━━━━\u001b[0m\u001b[37m\u001b[0m \u001b[1m2s\u001b[0m 3ms/step - accuracy: 0.9952 - loss: 0.0345 - val_accuracy: 0.8136 - val_loss: 1.0988\n",
      "Epoch 14/20\n",
      "\u001b[1m597/597\u001b[0m \u001b[32m━━━━━━━━━━━━━━━━━━━━\u001b[0m\u001b[37m\u001b[0m \u001b[1m2s\u001b[0m 3ms/step - accuracy: 0.9950 - loss: 0.0372 - val_accuracy: 0.8117 - val_loss: 1.0916\n",
      "Epoch 15/20\n",
      "\u001b[1m597/597\u001b[0m \u001b[32m━━━━━━━━━━━━━━━━━━━━\u001b[0m\u001b[37m\u001b[0m \u001b[1m2s\u001b[0m 4ms/step - accuracy: 0.9973 - loss: 0.0261 - val_accuracy: 0.8212 - val_loss: 1.0786\n",
      "Epoch 16/20\n",
      "\u001b[1m597/597\u001b[0m \u001b[32m━━━━━━━━━━━━━━━━━━━━\u001b[0m\u001b[37m\u001b[0m \u001b[1m2s\u001b[0m 4ms/step - accuracy: 0.9954 - loss: 0.0327 - val_accuracy: 0.8058 - val_loss: 1.1723\n",
      "Epoch 17/20\n",
      "\u001b[1m597/597\u001b[0m \u001b[32m━━━━━━━━━━━━━━━━━━━━\u001b[0m\u001b[37m\u001b[0m \u001b[1m2s\u001b[0m 4ms/step - accuracy: 0.9952 - loss: 0.0338 - val_accuracy: 0.8134 - val_loss: 1.1554\n",
      "Epoch 18/20\n",
      "\u001b[1m597/597\u001b[0m \u001b[32m━━━━━━━━━━━━━━━━━━━━\u001b[0m\u001b[37m\u001b[0m \u001b[1m2s\u001b[0m 4ms/step - accuracy: 0.9955 - loss: 0.0335 - val_accuracy: 0.8142 - val_loss: 1.1659\n",
      "Epoch 19/20\n",
      "\u001b[1m597/597\u001b[0m \u001b[32m━━━━━━━━━━━━━━━━━━━━\u001b[0m\u001b[37m\u001b[0m \u001b[1m2s\u001b[0m 4ms/step - accuracy: 0.9972 - loss: 0.0238 - val_accuracy: 0.8050 - val_loss: 1.2667\n",
      "Epoch 20/20\n",
      "\u001b[1m597/597\u001b[0m \u001b[32m━━━━━━━━━━━━━━━━━━━━\u001b[0m\u001b[37m\u001b[0m \u001b[1m2s\u001b[0m 4ms/step - accuracy: 0.9958 - loss: 0.0358 - val_accuracy: 0.8122 - val_loss: 1.2073\n",
      "\u001b[1m560/560\u001b[0m \u001b[32m━━━━━━━━━━━━━━━━━━━━\u001b[0m\u001b[37m\u001b[0m \u001b[1m1s\u001b[0m 1ms/step\n",
      "\u001b[1m276/276\u001b[0m \u001b[32m━━━━━━━━━━━━━━━━━━━━\u001b[0m\u001b[37m\u001b[0m \u001b[1m0s\u001b[0m 787us/step\n",
      "Epoch 1/20\n",
      "\u001b[1m597/597\u001b[0m \u001b[32m━━━━━━━━━━━━━━━━━━━━\u001b[0m\u001b[37m\u001b[0m \u001b[1m4s\u001b[0m 5ms/step - accuracy: 0.6513 - loss: 0.7127 - val_accuracy: 0.8351 - val_loss: 0.3914\n",
      "Epoch 2/20\n",
      "\u001b[1m597/597\u001b[0m \u001b[32m━━━━━━━━━━━━━━━━━━━━\u001b[0m\u001b[37m\u001b[0m \u001b[1m3s\u001b[0m 5ms/step - accuracy: 0.9001 - loss: 0.2917 - val_accuracy: 0.8393 - val_loss: 0.3977\n",
      "Epoch 3/20\n",
      "\u001b[1m597/597\u001b[0m \u001b[32m━━━━━━━━━━━━━━━━━━━━\u001b[0m\u001b[37m\u001b[0m \u001b[1m3s\u001b[0m 4ms/step - accuracy: 0.9514 - loss: 0.1717 - val_accuracy: 0.8332 - val_loss: 0.4485\n",
      "Epoch 4/20\n",
      "\u001b[1m597/597\u001b[0m \u001b[32m━━━━━━━━━━━━━━━━━━━━\u001b[0m\u001b[37m\u001b[0m \u001b[1m3s\u001b[0m 4ms/step - accuracy: 0.9790 - loss: 0.0988 - val_accuracy: 0.8310 - val_loss: 0.6069\n",
      "Epoch 5/20\n",
      "\u001b[1m597/597\u001b[0m \u001b[32m━━━━━━━━━━━━━━━━━━━━\u001b[0m\u001b[37m\u001b[0m \u001b[1m3s\u001b[0m 4ms/step - accuracy: 0.9878 - loss: 0.0675 - val_accuracy: 0.8226 - val_loss: 0.7076\n",
      "Epoch 6/20\n",
      "\u001b[1m597/597\u001b[0m \u001b[32m━━━━━━━━━━━━━━━━━━━━\u001b[0m\u001b[37m\u001b[0m \u001b[1m3s\u001b[0m 4ms/step - accuracy: 0.9922 - loss: 0.0507 - val_accuracy: 0.8265 - val_loss: 0.8152\n",
      "Epoch 7/20\n",
      "\u001b[1m597/597\u001b[0m \u001b[32m━━━━━━━━━━━━━━━━━━━━\u001b[0m\u001b[37m\u001b[0m \u001b[1m2s\u001b[0m 4ms/step - accuracy: 0.9947 - loss: 0.0430 - val_accuracy: 0.8270 - val_loss: 0.8360\n",
      "Epoch 8/20\n",
      "\u001b[1m597/597\u001b[0m \u001b[32m━━━━━━━━━━━━━━━━━━━━\u001b[0m\u001b[37m\u001b[0m \u001b[1m2s\u001b[0m 4ms/step - accuracy: 0.9953 - loss: 0.0345 - val_accuracy: 0.8234 - val_loss: 0.8790\n",
      "Epoch 9/20\n",
      "\u001b[1m597/597\u001b[0m \u001b[32m━━━━━━━━━━━━━━━━━━━━\u001b[0m\u001b[37m\u001b[0m \u001b[1m3s\u001b[0m 4ms/step - accuracy: 0.9949 - loss: 0.0432 - val_accuracy: 0.8148 - val_loss: 1.0023\n",
      "Epoch 10/20\n",
      "\u001b[1m597/597\u001b[0m \u001b[32m━━━━━━━━━━━━━━━━━━━━\u001b[0m\u001b[37m\u001b[0m \u001b[1m3s\u001b[0m 4ms/step - accuracy: 0.9933 - loss: 0.0460 - val_accuracy: 0.8134 - val_loss: 0.9621\n",
      "Epoch 11/20\n",
      "\u001b[1m597/597\u001b[0m \u001b[32m━━━━━━━━━━━━━━━━━━━━\u001b[0m\u001b[37m\u001b[0m \u001b[1m3s\u001b[0m 4ms/step - accuracy: 0.9947 - loss: 0.0399 - val_accuracy: 0.8198 - val_loss: 1.0040\n",
      "Epoch 12/20\n",
      "\u001b[1m597/597\u001b[0m \u001b[32m━━━━━━━━━━━━━━━━━━━━\u001b[0m\u001b[37m\u001b[0m \u001b[1m3s\u001b[0m 5ms/step - accuracy: 0.9932 - loss: 0.0456 - val_accuracy: 0.8296 - val_loss: 1.0149\n",
      "Epoch 13/20\n",
      "\u001b[1m597/597\u001b[0m \u001b[32m━━━━━━━━━━━━━━━━━━━━\u001b[0m\u001b[37m\u001b[0m \u001b[1m3s\u001b[0m 4ms/step - accuracy: 0.9960 - loss: 0.0350 - val_accuracy: 0.8128 - val_loss: 1.0646\n",
      "Epoch 14/20\n",
      "\u001b[1m597/597\u001b[0m \u001b[32m━━━━━━━━━━━━━━━━━━━━\u001b[0m\u001b[37m\u001b[0m \u001b[1m3s\u001b[0m 4ms/step - accuracy: 0.9957 - loss: 0.0332 - val_accuracy: 0.8117 - val_loss: 1.0516\n",
      "Epoch 15/20\n",
      "\u001b[1m597/597\u001b[0m \u001b[32m━━━━━━━━━━━━━━━━━━━━\u001b[0m\u001b[37m\u001b[0m \u001b[1m2s\u001b[0m 4ms/step - accuracy: 0.9950 - loss: 0.0359 - val_accuracy: 0.8061 - val_loss: 1.0786\n",
      "Epoch 16/20\n",
      "\u001b[1m597/597\u001b[0m \u001b[32m━━━━━━━━━━━━━━━━━━━━\u001b[0m\u001b[37m\u001b[0m \u001b[1m2s\u001b[0m 4ms/step - accuracy: 0.9961 - loss: 0.0311 - val_accuracy: 0.8078 - val_loss: 1.1965\n",
      "Epoch 17/20\n",
      "\u001b[1m597/597\u001b[0m \u001b[32m━━━━━━━━━━━━━━━━━━━━\u001b[0m\u001b[37m\u001b[0m \u001b[1m3s\u001b[0m 4ms/step - accuracy: 0.9969 - loss: 0.0314 - val_accuracy: 0.8033 - val_loss: 1.2851\n",
      "Epoch 18/20\n",
      "\u001b[1m597/597\u001b[0m \u001b[32m━━━━━━━━━━━━━━━━━━━━\u001b[0m\u001b[37m\u001b[0m \u001b[1m3s\u001b[0m 4ms/step - accuracy: 0.9952 - loss: 0.0373 - val_accuracy: 0.8013 - val_loss: 1.0529\n",
      "Epoch 19/20\n",
      "\u001b[1m597/597\u001b[0m \u001b[32m━━━━━━━━━━━━━━━━━━━━\u001b[0m\u001b[37m\u001b[0m \u001b[1m3s\u001b[0m 4ms/step - accuracy: 0.9972 - loss: 0.0349 - val_accuracy: 0.8139 - val_loss: 1.1176\n",
      "Epoch 20/20\n",
      "\u001b[1m597/597\u001b[0m \u001b[32m━━━━━━━━━━━━━━━━━━━━\u001b[0m\u001b[37m\u001b[0m \u001b[1m2s\u001b[0m 4ms/step - accuracy: 0.9970 - loss: 0.0279 - val_accuracy: 0.8120 - val_loss: 1.1056\n",
      "\u001b[1m560/560\u001b[0m \u001b[32m━━━━━━━━━━━━━━━━━━━━\u001b[0m\u001b[37m\u001b[0m \u001b[1m1s\u001b[0m 814us/step\n",
      "\u001b[1m276/276\u001b[0m \u001b[32m━━━━━━━━━━━━━━━━━━━━\u001b[0m\u001b[37m\u001b[0m \u001b[1m0s\u001b[0m 663us/step\n",
      "Epoch 1/20\n",
      "\u001b[1m597/597\u001b[0m \u001b[32m━━━━━━━━━━━━━━━━━━━━\u001b[0m\u001b[37m\u001b[0m \u001b[1m5s\u001b[0m 5ms/step - accuracy: 0.6417 - loss: 0.7085 - val_accuracy: 0.8388 - val_loss: 0.3916\n",
      "Epoch 2/20\n",
      "\u001b[1m597/597\u001b[0m \u001b[32m━━━━━━━━━━━━━━━━━━━━\u001b[0m\u001b[37m\u001b[0m \u001b[1m2s\u001b[0m 4ms/step - accuracy: 0.9022 - loss: 0.2888 - val_accuracy: 0.8407 - val_loss: 0.4161\n",
      "Epoch 3/20\n",
      "\u001b[1m597/597\u001b[0m \u001b[32m━━━━━━━━━━━━━━━━━━━━\u001b[0m\u001b[37m\u001b[0m \u001b[1m3s\u001b[0m 4ms/step - accuracy: 0.9553 - loss: 0.1678 - val_accuracy: 0.8293 - val_loss: 0.5353\n",
      "Epoch 4/20\n",
      "\u001b[1m597/597\u001b[0m \u001b[32m━━━━━━━━━━━━━━━━━━━━\u001b[0m\u001b[37m\u001b[0m \u001b[1m2s\u001b[0m 4ms/step - accuracy: 0.9767 - loss: 0.1079 - val_accuracy: 0.8229 - val_loss: 0.6431\n",
      "Epoch 5/20\n",
      "\u001b[1m597/597\u001b[0m \u001b[32m━━━━━━━━━━━━━━━━━━━━\u001b[0m\u001b[37m\u001b[0m \u001b[1m3s\u001b[0m 4ms/step - accuracy: 0.9897 - loss: 0.0642 - val_accuracy: 0.8122 - val_loss: 0.7244\n",
      "Epoch 6/20\n",
      "\u001b[1m597/597\u001b[0m \u001b[32m━━━━━━━━━━━━━━━━━━━━\u001b[0m\u001b[37m\u001b[0m \u001b[1m3s\u001b[0m 5ms/step - accuracy: 0.9919 - loss: 0.0525 - val_accuracy: 0.8215 - val_loss: 0.8443\n",
      "Epoch 7/20\n",
      "\u001b[1m597/597\u001b[0m \u001b[32m━━━━━━━━━━━━━━━━━━━━\u001b[0m\u001b[37m\u001b[0m \u001b[1m3s\u001b[0m 5ms/step - accuracy: 0.9956 - loss: 0.0392 - val_accuracy: 0.8243 - val_loss: 0.9229\n",
      "Epoch 8/20\n",
      "\u001b[1m597/597\u001b[0m \u001b[32m━━━━━━━━━━━━━━━━━━━━\u001b[0m\u001b[37m\u001b[0m \u001b[1m3s\u001b[0m 4ms/step - accuracy: 0.9934 - loss: 0.0439 - val_accuracy: 0.8170 - val_loss: 0.9302\n",
      "Epoch 9/20\n",
      "\u001b[1m597/597\u001b[0m \u001b[32m━━━━━━━━━━━━━━━━━━━━\u001b[0m\u001b[37m\u001b[0m \u001b[1m3s\u001b[0m 5ms/step - accuracy: 0.9947 - loss: 0.0433 - val_accuracy: 0.8170 - val_loss: 1.0100\n",
      "Epoch 10/20\n",
      "\u001b[1m597/597\u001b[0m \u001b[32m━━━━━━━━━━━━━━━━━━━━\u001b[0m\u001b[37m\u001b[0m \u001b[1m3s\u001b[0m 4ms/step - accuracy: 0.9950 - loss: 0.0366 - val_accuracy: 0.8122 - val_loss: 1.0708\n",
      "Epoch 11/20\n",
      "\u001b[1m597/597\u001b[0m \u001b[32m━━━━━━━━━━━━━━━━━━━━\u001b[0m\u001b[37m\u001b[0m \u001b[1m3s\u001b[0m 4ms/step - accuracy: 0.9961 - loss: 0.0383 - val_accuracy: 0.8125 - val_loss: 1.1053\n",
      "Epoch 12/20\n",
      "\u001b[1m597/597\u001b[0m \u001b[32m━━━━━━━━━━━━━━━━━━━━\u001b[0m\u001b[37m\u001b[0m \u001b[1m3s\u001b[0m 4ms/step - accuracy: 0.9931 - loss: 0.0460 - val_accuracy: 0.8089 - val_loss: 1.0491\n",
      "Epoch 13/20\n",
      "\u001b[1m597/597\u001b[0m \u001b[32m━━━━━━━━━━━━━━━━━━━━\u001b[0m\u001b[37m\u001b[0m \u001b[1m2s\u001b[0m 4ms/step - accuracy: 0.9962 - loss: 0.0349 - val_accuracy: 0.7994 - val_loss: 1.1058\n",
      "Epoch 14/20\n",
      "\u001b[1m597/597\u001b[0m \u001b[32m━━━━━━━━━━━━━━━━━━━━\u001b[0m\u001b[37m\u001b[0m \u001b[1m3s\u001b[0m 4ms/step - accuracy: 0.9948 - loss: 0.0418 - val_accuracy: 0.8111 - val_loss: 1.0324\n",
      "Epoch 15/20\n",
      "\u001b[1m597/597\u001b[0m \u001b[32m━━━━━━━━━━━━━━━━━━━━\u001b[0m\u001b[37m\u001b[0m \u001b[1m2s\u001b[0m 4ms/step - accuracy: 0.9967 - loss: 0.0339 - val_accuracy: 0.8106 - val_loss: 1.1579\n",
      "Epoch 16/20\n",
      "\u001b[1m597/597\u001b[0m \u001b[32m━━━━━━━━━━━━━━━━━━━━\u001b[0m\u001b[37m\u001b[0m \u001b[1m3s\u001b[0m 5ms/step - accuracy: 0.9960 - loss: 0.0331 - val_accuracy: 0.8114 - val_loss: 1.0713\n",
      "Epoch 17/20\n",
      "\u001b[1m597/597\u001b[0m \u001b[32m━━━━━━━━━━━━━━━━━━━━\u001b[0m\u001b[37m\u001b[0m \u001b[1m3s\u001b[0m 5ms/step - accuracy: 0.9970 - loss: 0.0304 - val_accuracy: 0.8114 - val_loss: 1.2140\n",
      "Epoch 18/20\n",
      "\u001b[1m597/597\u001b[0m \u001b[32m━━━━━━━━━━━━━━━━━━━━\u001b[0m\u001b[37m\u001b[0m \u001b[1m4s\u001b[0m 6ms/step - accuracy: 0.9970 - loss: 0.0359 - val_accuracy: 0.8061 - val_loss: 1.2593\n",
      "Epoch 19/20\n",
      "\u001b[1m597/597\u001b[0m \u001b[32m━━━━━━━━━━━━━━━━━━━━\u001b[0m\u001b[37m\u001b[0m \u001b[1m3s\u001b[0m 4ms/step - accuracy: 0.9967 - loss: 0.0407 - val_accuracy: 0.8058 - val_loss: 1.1872\n",
      "Epoch 20/20\n",
      "\u001b[1m597/597\u001b[0m \u001b[32m━━━━━━━━━━━━━━━━━━━━\u001b[0m\u001b[37m\u001b[0m \u001b[1m2s\u001b[0m 4ms/step - accuracy: 0.9973 - loss: 0.0254 - val_accuracy: 0.8117 - val_loss: 1.2250\n",
      "\u001b[1m560/560\u001b[0m \u001b[32m━━━━━━━━━━━━━━━━━━━━\u001b[0m\u001b[37m\u001b[0m \u001b[1m0s\u001b[0m 737us/step\n",
      "\u001b[1m276/276\u001b[0m \u001b[32m━━━━━━━━━━━━━━━━━━━━\u001b[0m\u001b[37m\u001b[0m \u001b[1m0s\u001b[0m 521us/step\n",
      "Epoch 1/20\n",
      "\u001b[1m597/597\u001b[0m \u001b[32m━━━━━━━━━━━━━━━━━━━━\u001b[0m\u001b[37m\u001b[0m \u001b[1m4s\u001b[0m 5ms/step - accuracy: 0.6399 - loss: 0.6986 - val_accuracy: 0.8427 - val_loss: 0.3830\n",
      "Epoch 2/20\n",
      "\u001b[1m597/597\u001b[0m \u001b[32m━━━━━━━━━━━━━━━━━━━━\u001b[0m\u001b[37m\u001b[0m \u001b[1m3s\u001b[0m 4ms/step - accuracy: 0.9071 - loss: 0.2777 - val_accuracy: 0.8388 - val_loss: 0.4152\n",
      "Epoch 3/20\n",
      "\u001b[1m597/597\u001b[0m \u001b[32m━━━━━━━━━━━━━━━━━━━━\u001b[0m\u001b[37m\u001b[0m \u001b[1m3s\u001b[0m 4ms/step - accuracy: 0.9610 - loss: 0.1567 - val_accuracy: 0.8354 - val_loss: 0.4797\n",
      "Epoch 4/20\n",
      "\u001b[1m597/597\u001b[0m \u001b[32m━━━━━━━━━━━━━━━━━━━━\u001b[0m\u001b[37m\u001b[0m \u001b[1m3s\u001b[0m 4ms/step - accuracy: 0.9785 - loss: 0.0986 - val_accuracy: 0.8310 - val_loss: 0.5960\n",
      "Epoch 5/20\n",
      "\u001b[1m597/597\u001b[0m \u001b[32m━━━━━━━━━━━━━━━━━━━━\u001b[0m\u001b[37m\u001b[0m \u001b[1m3s\u001b[0m 4ms/step - accuracy: 0.9892 - loss: 0.0674 - val_accuracy: 0.8150 - val_loss: 0.7607\n",
      "Epoch 6/20\n",
      "\u001b[1m597/597\u001b[0m \u001b[32m━━━━━━━━━━━━━━━━━━━━\u001b[0m\u001b[37m\u001b[0m \u001b[1m3s\u001b[0m 5ms/step - accuracy: 0.9916 - loss: 0.0582 - val_accuracy: 0.8201 - val_loss: 0.7959\n",
      "Epoch 7/20\n",
      "\u001b[1m597/597\u001b[0m \u001b[32m━━━━━━━━━━━━━━━━━━━━\u001b[0m\u001b[37m\u001b[0m \u001b[1m3s\u001b[0m 5ms/step - accuracy: 0.9917 - loss: 0.0557 - val_accuracy: 0.8117 - val_loss: 0.8394\n",
      "Epoch 8/20\n",
      "\u001b[1m597/597\u001b[0m \u001b[32m━━━━━━━━━━━━━━━━━━━━\u001b[0m\u001b[37m\u001b[0m \u001b[1m3s\u001b[0m 5ms/step - accuracy: 0.9940 - loss: 0.0450 - val_accuracy: 0.8170 - val_loss: 0.9032\n",
      "Epoch 9/20\n",
      "\u001b[1m597/597\u001b[0m \u001b[32m━━━━━━━━━━━━━━━━━━━━\u001b[0m\u001b[37m\u001b[0m \u001b[1m3s\u001b[0m 4ms/step - accuracy: 0.9955 - loss: 0.0395 - val_accuracy: 0.8114 - val_loss: 1.0444\n",
      "Epoch 10/20\n",
      "\u001b[1m597/597\u001b[0m \u001b[32m━━━━━━━━━━━━━━━━━━━━\u001b[0m\u001b[37m\u001b[0m \u001b[1m3s\u001b[0m 5ms/step - accuracy: 0.9935 - loss: 0.0524 - val_accuracy: 0.8134 - val_loss: 0.9945\n",
      "Epoch 11/20\n",
      "\u001b[1m597/597\u001b[0m \u001b[32m━━━━━━━━━━━━━━━━━━━━\u001b[0m\u001b[37m\u001b[0m \u001b[1m3s\u001b[0m 5ms/step - accuracy: 0.9947 - loss: 0.0429 - val_accuracy: 0.8156 - val_loss: 0.9874\n",
      "Epoch 12/20\n",
      "\u001b[1m597/597\u001b[0m \u001b[32m━━━━━━━━━━━━━━━━━━━━\u001b[0m\u001b[37m\u001b[0m \u001b[1m3s\u001b[0m 4ms/step - accuracy: 0.9955 - loss: 0.0396 - val_accuracy: 0.8156 - val_loss: 0.9843\n",
      "Epoch 13/20\n",
      "\u001b[1m597/597\u001b[0m \u001b[32m━━━━━━━━━━━━━━━━━━━━\u001b[0m\u001b[37m\u001b[0m \u001b[1m3s\u001b[0m 5ms/step - accuracy: 0.9950 - loss: 0.0435 - val_accuracy: 0.8108 - val_loss: 1.1115\n",
      "Epoch 14/20\n",
      "\u001b[1m597/597\u001b[0m \u001b[32m━━━━━━━━━━━━━━━━━━━━\u001b[0m\u001b[37m\u001b[0m \u001b[1m3s\u001b[0m 5ms/step - accuracy: 0.9958 - loss: 0.0348 - val_accuracy: 0.8075 - val_loss: 1.1363\n",
      "Epoch 15/20\n",
      "\u001b[1m597/597\u001b[0m \u001b[32m━━━━━━━━━━━━━━━━━━━━\u001b[0m\u001b[37m\u001b[0m \u001b[1m3s\u001b[0m 5ms/step - accuracy: 0.9967 - loss: 0.0379 - val_accuracy: 0.8086 - val_loss: 1.1458\n",
      "Epoch 16/20\n",
      "\u001b[1m597/597\u001b[0m \u001b[32m━━━━━━━━━━━━━━━━━━━━\u001b[0m\u001b[37m\u001b[0m \u001b[1m3s\u001b[0m 5ms/step - accuracy: 0.9965 - loss: 0.0317 - val_accuracy: 0.8066 - val_loss: 1.1244\n",
      "Epoch 17/20\n",
      "\u001b[1m597/597\u001b[0m \u001b[32m━━━━━━━━━━━━━━━━━━━━\u001b[0m\u001b[37m\u001b[0m \u001b[1m3s\u001b[0m 4ms/step - accuracy: 0.9947 - loss: 0.0442 - val_accuracy: 0.8078 - val_loss: 1.1487\n",
      "Epoch 18/20\n",
      "\u001b[1m597/597\u001b[0m \u001b[32m━━━━━━━━━━━━━━━━━━━━\u001b[0m\u001b[37m\u001b[0m \u001b[1m2s\u001b[0m 4ms/step - accuracy: 0.9967 - loss: 0.0345 - val_accuracy: 0.8111 - val_loss: 1.0393\n",
      "Epoch 19/20\n",
      "\u001b[1m597/597\u001b[0m \u001b[32m━━━━━━━━━━━━━━━━━━━━\u001b[0m\u001b[37m\u001b[0m \u001b[1m2s\u001b[0m 4ms/step - accuracy: 0.9962 - loss: 0.0360 - val_accuracy: 0.8041 - val_loss: 1.1479\n",
      "Epoch 20/20\n",
      "\u001b[1m597/597\u001b[0m \u001b[32m━━━━━━━━━━━━━━━━━━━━\u001b[0m\u001b[37m\u001b[0m \u001b[1m2s\u001b[0m 4ms/step - accuracy: 0.9977 - loss: 0.0309 - val_accuracy: 0.8055 - val_loss: 1.1620\n",
      "\u001b[1m560/560\u001b[0m \u001b[32m━━━━━━━━━━━━━━━━━━━━\u001b[0m\u001b[37m\u001b[0m \u001b[1m0s\u001b[0m 654us/step\n",
      "\u001b[1m276/276\u001b[0m \u001b[32m━━━━━━━━━━━━━━━━━━━━\u001b[0m\u001b[37m\u001b[0m \u001b[1m0s\u001b[0m 529us/step\n",
      "Epoch 1/20\n",
      "\u001b[1m597/597\u001b[0m \u001b[32m━━━━━━━━━━━━━━━━━━━━\u001b[0m\u001b[37m\u001b[0m \u001b[1m4s\u001b[0m 5ms/step - accuracy: 0.6570 - loss: 0.6917 - val_accuracy: 0.8357 - val_loss: 0.3901\n",
      "Epoch 2/20\n",
      "\u001b[1m597/597\u001b[0m \u001b[32m━━━━━━━━━━━━━━━━━━━━\u001b[0m\u001b[37m\u001b[0m \u001b[1m3s\u001b[0m 4ms/step - accuracy: 0.9074 - loss: 0.2814 - val_accuracy: 0.8379 - val_loss: 0.4200\n",
      "Epoch 3/20\n",
      "\u001b[1m597/597\u001b[0m \u001b[32m━━━━━━━━━━━━━━━━━━━━\u001b[0m\u001b[37m\u001b[0m \u001b[1m3s\u001b[0m 4ms/step - accuracy: 0.9631 - loss: 0.1543 - val_accuracy: 0.8324 - val_loss: 0.5053\n",
      "Epoch 4/20\n",
      "\u001b[1m597/597\u001b[0m \u001b[32m━━━━━━━━━━━━━━━━━━━━\u001b[0m\u001b[37m\u001b[0m \u001b[1m3s\u001b[0m 5ms/step - accuracy: 0.9794 - loss: 0.0979 - val_accuracy: 0.8195 - val_loss: 0.6639\n",
      "Epoch 5/20\n",
      "\u001b[1m597/597\u001b[0m \u001b[32m━━━━━━━━━━━━━━━━━━━━\u001b[0m\u001b[37m\u001b[0m \u001b[1m3s\u001b[0m 4ms/step - accuracy: 0.9901 - loss: 0.0678 - val_accuracy: 0.8117 - val_loss: 0.8046\n",
      "Epoch 6/20\n",
      "\u001b[1m597/597\u001b[0m \u001b[32m━━━━━━━━━━━━━━━━━━━━\u001b[0m\u001b[37m\u001b[0m \u001b[1m3s\u001b[0m 4ms/step - accuracy: 0.9919 - loss: 0.0575 - val_accuracy: 0.8128 - val_loss: 0.8329\n",
      "Epoch 7/20\n",
      "\u001b[1m597/597\u001b[0m \u001b[32m━━━━━━━━━━━━━━━━━━━━\u001b[0m\u001b[37m\u001b[0m \u001b[1m3s\u001b[0m 4ms/step - accuracy: 0.9901 - loss: 0.0638 - val_accuracy: 0.8178 - val_loss: 0.8950\n",
      "Epoch 8/20\n",
      "\u001b[1m597/597\u001b[0m \u001b[32m━━━━━━━━━━━━━━━━━━━━\u001b[0m\u001b[37m\u001b[0m \u001b[1m3s\u001b[0m 5ms/step - accuracy: 0.9951 - loss: 0.0432 - val_accuracy: 0.8187 - val_loss: 1.0432\n",
      "Epoch 9/20\n",
      "\u001b[1m597/597\u001b[0m \u001b[32m━━━━━━━━━━━━━━━━━━━━\u001b[0m\u001b[37m\u001b[0m \u001b[1m3s\u001b[0m 4ms/step - accuracy: 0.9933 - loss: 0.0521 - val_accuracy: 0.8114 - val_loss: 0.9937\n",
      "Epoch 10/20\n",
      "\u001b[1m597/597\u001b[0m \u001b[32m━━━━━━━━━━━━━━━━━━━━\u001b[0m\u001b[37m\u001b[0m \u001b[1m3s\u001b[0m 4ms/step - accuracy: 0.9949 - loss: 0.0425 - val_accuracy: 0.8189 - val_loss: 1.0251\n",
      "Epoch 11/20\n",
      "\u001b[1m597/597\u001b[0m \u001b[32m━━━━━━━━━━━━━━━━━━━━\u001b[0m\u001b[37m\u001b[0m \u001b[1m3s\u001b[0m 4ms/step - accuracy: 0.9935 - loss: 0.0491 - val_accuracy: 0.8125 - val_loss: 1.0927\n",
      "Epoch 12/20\n",
      "\u001b[1m597/597\u001b[0m \u001b[32m━━━━━━━━━━━━━━━━━━━━\u001b[0m\u001b[37m\u001b[0m \u001b[1m3s\u001b[0m 5ms/step - accuracy: 0.9940 - loss: 0.0468 - val_accuracy: 0.8122 - val_loss: 1.0699\n",
      "Epoch 13/20\n",
      "\u001b[1m597/597\u001b[0m \u001b[32m━━━━━━━━━━━━━━━━━━━━\u001b[0m\u001b[37m\u001b[0m \u001b[1m3s\u001b[0m 4ms/step - accuracy: 0.9975 - loss: 0.0358 - val_accuracy: 0.8097 - val_loss: 1.1492\n",
      "Epoch 14/20\n",
      "\u001b[1m597/597\u001b[0m \u001b[32m━━━━━━━━━━━━━━━━━━━━\u001b[0m\u001b[37m\u001b[0m \u001b[1m3s\u001b[0m 4ms/step - accuracy: 0.9959 - loss: 0.0450 - val_accuracy: 0.8150 - val_loss: 1.1851\n",
      "Epoch 15/20\n",
      "\u001b[1m597/597\u001b[0m \u001b[32m━━━━━━━━━━━━━━━━━━━━\u001b[0m\u001b[37m\u001b[0m \u001b[1m3s\u001b[0m 4ms/step - accuracy: 0.9946 - loss: 0.0509 - val_accuracy: 0.8083 - val_loss: 1.0563\n",
      "Epoch 16/20\n",
      "\u001b[1m597/597\u001b[0m \u001b[32m━━━━━━━━━━━━━━━━━━━━\u001b[0m\u001b[37m\u001b[0m \u001b[1m3s\u001b[0m 4ms/step - accuracy: 0.9974 - loss: 0.0305 - val_accuracy: 0.8120 - val_loss: 1.1415\n",
      "Epoch 17/20\n",
      "\u001b[1m597/597\u001b[0m \u001b[32m━━━━━━━━━━━━━━━━━━━━\u001b[0m\u001b[37m\u001b[0m \u001b[1m3s\u001b[0m 4ms/step - accuracy: 0.9956 - loss: 0.0470 - val_accuracy: 0.8100 - val_loss: 1.1129\n",
      "Epoch 18/20\n",
      "\u001b[1m597/597\u001b[0m \u001b[32m━━━━━━━━━━━━━━━━━━━━\u001b[0m\u001b[37m\u001b[0m \u001b[1m3s\u001b[0m 4ms/step - accuracy: 0.9964 - loss: 0.0294 - val_accuracy: 0.8145 - val_loss: 1.2585\n",
      "Epoch 19/20\n",
      "\u001b[1m597/597\u001b[0m \u001b[32m━━━━━━━━━━━━━━━━━━━━\u001b[0m\u001b[37m\u001b[0m \u001b[1m3s\u001b[0m 4ms/step - accuracy: 0.9952 - loss: 0.0495 - val_accuracy: 0.8033 - val_loss: 1.1597\n",
      "Epoch 20/20\n",
      "\u001b[1m597/597\u001b[0m \u001b[32m━━━━━━━━━━━━━━━━━━━━\u001b[0m\u001b[37m\u001b[0m \u001b[1m3s\u001b[0m 4ms/step - accuracy: 0.9972 - loss: 0.0297 - val_accuracy: 0.7890 - val_loss: 1.1986\n",
      "\u001b[1m560/560\u001b[0m \u001b[32m━━━━━━━━━━━━━━━━━━━━\u001b[0m\u001b[37m\u001b[0m \u001b[1m0s\u001b[0m 719us/step\n",
      "\u001b[1m276/276\u001b[0m \u001b[32m━━━━━━━━━━━━━━━━━━━━\u001b[0m\u001b[37m\u001b[0m \u001b[1m0s\u001b[0m 503us/step\n",
      "Epoch 1/20\n",
      "\u001b[1m597/597\u001b[0m \u001b[32m━━━━━━━━━━━━━━━━━━━━\u001b[0m\u001b[37m\u001b[0m \u001b[1m4s\u001b[0m 5ms/step - accuracy: 0.6381 - loss: 0.6901 - val_accuracy: 0.8427 - val_loss: 0.3881\n",
      "Epoch 2/20\n",
      "\u001b[1m597/597\u001b[0m \u001b[32m━━━━━━━━━━━━━━━━━━━━\u001b[0m\u001b[37m\u001b[0m \u001b[1m3s\u001b[0m 5ms/step - accuracy: 0.9046 - loss: 0.2823 - val_accuracy: 0.8419 - val_loss: 0.3984\n",
      "Epoch 3/20\n",
      "\u001b[1m597/597\u001b[0m \u001b[32m━━━━━━━━━━━━━━━━━━━━\u001b[0m\u001b[37m\u001b[0m \u001b[1m3s\u001b[0m 5ms/step - accuracy: 0.9571 - loss: 0.1666 - val_accuracy: 0.8296 - val_loss: 0.4999\n",
      "Epoch 4/20\n",
      "\u001b[1m597/597\u001b[0m \u001b[32m━━━━━━━━━━━━━━━━━━━━\u001b[0m\u001b[37m\u001b[0m \u001b[1m3s\u001b[0m 5ms/step - accuracy: 0.9788 - loss: 0.1076 - val_accuracy: 0.8142 - val_loss: 0.6209\n",
      "Epoch 5/20\n",
      "\u001b[1m597/597\u001b[0m \u001b[32m━━━━━━━━━━━━━━━━━━━━\u001b[0m\u001b[37m\u001b[0m \u001b[1m3s\u001b[0m 5ms/step - accuracy: 0.9909 - loss: 0.0702 - val_accuracy: 0.8108 - val_loss: 0.7192\n",
      "Epoch 6/20\n",
      "\u001b[1m597/597\u001b[0m \u001b[32m━━━━━━━━━━━━━━━━━━━━\u001b[0m\u001b[37m\u001b[0m \u001b[1m3s\u001b[0m 5ms/step - accuracy: 0.9890 - loss: 0.0712 - val_accuracy: 0.8206 - val_loss: 0.8030\n",
      "Epoch 7/20\n",
      "\u001b[1m597/597\u001b[0m \u001b[32m━━━━━━━━━━━━━━━━━━━━\u001b[0m\u001b[37m\u001b[0m \u001b[1m3s\u001b[0m 5ms/step - accuracy: 0.9936 - loss: 0.0529 - val_accuracy: 0.8114 - val_loss: 1.0110\n",
      "Epoch 8/20\n",
      "\u001b[1m597/597\u001b[0m \u001b[32m━━━━━━━━━━━━━━━━━━━━\u001b[0m\u001b[37m\u001b[0m \u001b[1m3s\u001b[0m 5ms/step - accuracy: 0.9919 - loss: 0.0556 - val_accuracy: 0.8108 - val_loss: 0.9345\n",
      "Epoch 9/20\n",
      "\u001b[1m597/597\u001b[0m \u001b[32m━━━━━━━━━━━━━━━━━━━━\u001b[0m\u001b[37m\u001b[0m \u001b[1m3s\u001b[0m 5ms/step - accuracy: 0.9921 - loss: 0.0566 - val_accuracy: 0.8161 - val_loss: 0.9375\n",
      "Epoch 10/20\n",
      "\u001b[1m597/597\u001b[0m \u001b[32m━━━━━━━━━━━━━━━━━━━━\u001b[0m\u001b[37m\u001b[0m \u001b[1m3s\u001b[0m 5ms/step - accuracy: 0.9928 - loss: 0.0495 - val_accuracy: 0.8150 - val_loss: 0.9958\n",
      "Epoch 11/20\n",
      "\u001b[1m597/597\u001b[0m \u001b[32m━━━━━━━━━━━━━━━━━━━━\u001b[0m\u001b[37m\u001b[0m \u001b[1m3s\u001b[0m 5ms/step - accuracy: 0.9946 - loss: 0.0480 - val_accuracy: 0.8178 - val_loss: 0.9455\n",
      "Epoch 12/20\n",
      "\u001b[1m597/597\u001b[0m \u001b[32m━━━━━━━━━━━━━━━━━━━━\u001b[0m\u001b[37m\u001b[0m \u001b[1m3s\u001b[0m 5ms/step - accuracy: 0.9950 - loss: 0.0455 - val_accuracy: 0.8122 - val_loss: 0.9910\n",
      "Epoch 13/20\n",
      "\u001b[1m597/597\u001b[0m \u001b[32m━━━━━━━━━━━━━━━━━━━━\u001b[0m\u001b[37m\u001b[0m \u001b[1m3s\u001b[0m 5ms/step - accuracy: 0.9946 - loss: 0.0451 - val_accuracy: 0.8044 - val_loss: 1.0171\n",
      "Epoch 14/20\n",
      "\u001b[1m597/597\u001b[0m \u001b[32m━━━━━━━━━━━━━━━━━━━━\u001b[0m\u001b[37m\u001b[0m \u001b[1m3s\u001b[0m 6ms/step - accuracy: 0.9952 - loss: 0.0387 - val_accuracy: 0.8055 - val_loss: 1.0179\n",
      "Epoch 15/20\n",
      "\u001b[1m597/597\u001b[0m \u001b[32m━━━━━━━━━━━━━━━━━━━━\u001b[0m\u001b[37m\u001b[0m \u001b[1m3s\u001b[0m 5ms/step - accuracy: 0.9960 - loss: 0.0376 - val_accuracy: 0.8005 - val_loss: 1.1373\n",
      "Epoch 16/20\n",
      "\u001b[1m597/597\u001b[0m \u001b[32m━━━━━━━━━━━━━━━━━━━━\u001b[0m\u001b[37m\u001b[0m \u001b[1m3s\u001b[0m 5ms/step - accuracy: 0.9963 - loss: 0.0411 - val_accuracy: 0.8083 - val_loss: 1.0378\n",
      "Epoch 17/20\n",
      "\u001b[1m597/597\u001b[0m \u001b[32m━━━━━━━━━━━━━━━━━━━━\u001b[0m\u001b[37m\u001b[0m \u001b[1m3s\u001b[0m 5ms/step - accuracy: 0.9964 - loss: 0.0373 - val_accuracy: 0.8103 - val_loss: 1.0311\n",
      "Epoch 18/20\n",
      "\u001b[1m597/597\u001b[0m \u001b[32m━━━━━━━━━━━━━━━━━━━━\u001b[0m\u001b[37m\u001b[0m \u001b[1m3s\u001b[0m 5ms/step - accuracy: 0.9968 - loss: 0.0328 - val_accuracy: 0.8030 - val_loss: 1.0588\n",
      "Epoch 19/20\n",
      "\u001b[1m597/597\u001b[0m \u001b[32m━━━━━━━━━━━━━━━━━━━━\u001b[0m\u001b[37m\u001b[0m \u001b[1m3s\u001b[0m 5ms/step - accuracy: 0.9966 - loss: 0.0319 - val_accuracy: 0.7969 - val_loss: 1.1128\n",
      "Epoch 20/20\n",
      "\u001b[1m597/597\u001b[0m \u001b[32m━━━━━━━━━━━━━━━━━━━━\u001b[0m\u001b[37m\u001b[0m \u001b[1m3s\u001b[0m 5ms/step - accuracy: 0.9965 - loss: 0.0330 - val_accuracy: 0.8058 - val_loss: 1.1798\n",
      "\u001b[1m560/560\u001b[0m \u001b[32m━━━━━━━━━━━━━━━━━━━━\u001b[0m\u001b[37m\u001b[0m \u001b[1m1s\u001b[0m 792us/step\n",
      "\u001b[1m276/276\u001b[0m \u001b[32m━━━━━━━━━━━━━━━━━━━━\u001b[0m\u001b[37m\u001b[0m \u001b[1m0s\u001b[0m 489us/step\n",
      "Epoch 1/20\n",
      "\u001b[1m597/597\u001b[0m \u001b[32m━━━━━━━━━━━━━━━━━━━━\u001b[0m\u001b[37m\u001b[0m \u001b[1m5s\u001b[0m 6ms/step - accuracy: 0.5861 - loss: 0.7364 - val_accuracy: 0.8248 - val_loss: 0.4499\n",
      "Epoch 2/20\n",
      "\u001b[1m597/597\u001b[0m \u001b[32m━━━━━━━━━━━━━━━━━━━━\u001b[0m\u001b[37m\u001b[0m \u001b[1m3s\u001b[0m 6ms/step - accuracy: 0.8794 - loss: 0.3663 - val_accuracy: 0.8379 - val_loss: 0.3887\n",
      "Epoch 3/20\n",
      "\u001b[1m597/597\u001b[0m \u001b[32m━━━━━━━━━━━━━━━━━━━━\u001b[0m\u001b[37m\u001b[0m \u001b[1m4s\u001b[0m 6ms/step - accuracy: 0.9385 - loss: 0.2289 - val_accuracy: 0.8270 - val_loss: 0.4646\n",
      "Epoch 4/20\n",
      "\u001b[1m597/597\u001b[0m \u001b[32m━━━━━━━━━━━━━━━━━━━━\u001b[0m\u001b[37m\u001b[0m \u001b[1m3s\u001b[0m 6ms/step - accuracy: 0.9592 - loss: 0.1610 - val_accuracy: 0.8287 - val_loss: 0.6120\n",
      "Epoch 5/20\n",
      "\u001b[1m597/597\u001b[0m \u001b[32m━━━━━━━━━━━━━━━━━━━━\u001b[0m\u001b[37m\u001b[0m \u001b[1m4s\u001b[0m 6ms/step - accuracy: 0.9782 - loss: 0.1092 - val_accuracy: 0.8215 - val_loss: 0.6895\n",
      "Epoch 6/20\n",
      "\u001b[1m597/597\u001b[0m \u001b[32m━━━━━━━━━━━━━━━━━━━━\u001b[0m\u001b[37m\u001b[0m \u001b[1m4s\u001b[0m 6ms/step - accuracy: 0.9803 - loss: 0.0977 - val_accuracy: 0.8181 - val_loss: 0.7900\n",
      "Epoch 7/20\n",
      "\u001b[1m597/597\u001b[0m \u001b[32m━━━━━━━━━━━━━━━━━━━━\u001b[0m\u001b[37m\u001b[0m \u001b[1m3s\u001b[0m 6ms/step - accuracy: 0.9832 - loss: 0.0916 - val_accuracy: 0.8187 - val_loss: 0.8426\n",
      "Epoch 8/20\n",
      "\u001b[1m597/597\u001b[0m \u001b[32m━━━━━━━━━━━━━━━━━━━━\u001b[0m\u001b[37m\u001b[0m \u001b[1m4s\u001b[0m 6ms/step - accuracy: 0.9846 - loss: 0.0835 - val_accuracy: 0.8187 - val_loss: 0.9038\n",
      "Epoch 9/20\n",
      "\u001b[1m597/597\u001b[0m \u001b[32m━━━━━━━━━━━━━━━━━━━━\u001b[0m\u001b[37m\u001b[0m \u001b[1m4s\u001b[0m 6ms/step - accuracy: 0.9837 - loss: 0.0899 - val_accuracy: 0.8198 - val_loss: 0.9775\n",
      "Epoch 10/20\n",
      "\u001b[1m597/597\u001b[0m \u001b[32m━━━━━━━━━━━━━━━━━━━━\u001b[0m\u001b[37m\u001b[0m \u001b[1m4s\u001b[0m 6ms/step - accuracy: 0.9828 - loss: 0.0934 - val_accuracy: 0.8128 - val_loss: 0.9089\n",
      "Epoch 11/20\n",
      "\u001b[1m597/597\u001b[0m \u001b[32m━━━━━━━━━━━━━━━━━━━━\u001b[0m\u001b[37m\u001b[0m \u001b[1m4s\u001b[0m 6ms/step - accuracy: 0.9855 - loss: 0.0837 - val_accuracy: 0.8053 - val_loss: 1.0913\n",
      "Epoch 12/20\n",
      "\u001b[1m597/597\u001b[0m \u001b[32m━━━━━━━━━━━━━━━━━━━━\u001b[0m\u001b[37m\u001b[0m \u001b[1m4s\u001b[0m 6ms/step - accuracy: 0.9851 - loss: 0.0839 - val_accuracy: 0.8142 - val_loss: 1.0407\n",
      "Epoch 13/20\n",
      "\u001b[1m597/597\u001b[0m \u001b[32m━━━━━━━━━━━━━━━━━━━━\u001b[0m\u001b[37m\u001b[0m \u001b[1m4s\u001b[0m 6ms/step - accuracy: 0.9839 - loss: 0.0859 - val_accuracy: 0.8061 - val_loss: 0.9291\n",
      "Epoch 14/20\n",
      "\u001b[1m597/597\u001b[0m \u001b[32m━━━━━━━━━━━━━━━━━━━━\u001b[0m\u001b[37m\u001b[0m \u001b[1m3s\u001b[0m 6ms/step - accuracy: 0.9858 - loss: 0.0813 - val_accuracy: 0.8061 - val_loss: 1.0179\n",
      "Epoch 15/20\n",
      "\u001b[1m597/597\u001b[0m \u001b[32m━━━━━━━━━━━━━━━━━━━━\u001b[0m\u001b[37m\u001b[0m \u001b[1m4s\u001b[0m 6ms/step - accuracy: 0.9879 - loss: 0.0706 - val_accuracy: 0.8030 - val_loss: 1.0799\n",
      "Epoch 16/20\n",
      "\u001b[1m597/597\u001b[0m \u001b[32m━━━━━━━━━━━━━━━━━━━━\u001b[0m\u001b[37m\u001b[0m \u001b[1m4s\u001b[0m 6ms/step - accuracy: 0.9863 - loss: 0.0779 - val_accuracy: 0.8131 - val_loss: 1.1386\n",
      "Epoch 17/20\n",
      "\u001b[1m597/597\u001b[0m \u001b[32m━━━━━━━━━━━━━━━━━━━━\u001b[0m\u001b[37m\u001b[0m \u001b[1m4s\u001b[0m 7ms/step - accuracy: 0.9861 - loss: 0.0795 - val_accuracy: 0.8097 - val_loss: 1.0878\n",
      "Epoch 18/20\n",
      "\u001b[1m597/597\u001b[0m \u001b[32m━━━━━━━━━━━━━━━━━━━━\u001b[0m\u001b[37m\u001b[0m \u001b[1m4s\u001b[0m 6ms/step - accuracy: 0.9876 - loss: 0.0743 - val_accuracy: 0.8083 - val_loss: 1.1007\n",
      "Epoch 19/20\n",
      "\u001b[1m597/597\u001b[0m \u001b[32m━━━━━━━━━━━━━━━━━━━━\u001b[0m\u001b[37m\u001b[0m \u001b[1m4s\u001b[0m 7ms/step - accuracy: 0.9871 - loss: 0.0762 - val_accuracy: 0.8145 - val_loss: 1.1774\n",
      "Epoch 20/20\n",
      "\u001b[1m597/597\u001b[0m \u001b[32m━━━━━━━━━━━━━━━━━━━━\u001b[0m\u001b[37m\u001b[0m \u001b[1m5s\u001b[0m 8ms/step - accuracy: 0.9878 - loss: 0.0749 - val_accuracy: 0.8089 - val_loss: 1.0055\n",
      "\u001b[1m560/560\u001b[0m \u001b[32m━━━━━━━━━━━━━━━━━━━━\u001b[0m\u001b[37m\u001b[0m \u001b[1m1s\u001b[0m 1ms/step\n",
      "\u001b[1m276/276\u001b[0m \u001b[32m━━━━━━━━━━━━━━━━━━━━\u001b[0m\u001b[37m\u001b[0m \u001b[1m0s\u001b[0m 1ms/step  \n",
      "Epoch 1/20\n",
      "\u001b[1m597/597\u001b[0m \u001b[32m━━━━━━━━━━━━━━━━━━━━\u001b[0m\u001b[37m\u001b[0m \u001b[1m8s\u001b[0m 11ms/step - accuracy: 0.6554 - loss: 0.6723 - val_accuracy: 0.8416 - val_loss: 0.3833\n",
      "Epoch 2/20\n",
      "\u001b[1m597/597\u001b[0m \u001b[32m━━━━━━━━━━━━━━━━━━━━\u001b[0m\u001b[37m\u001b[0m \u001b[1m6s\u001b[0m 10ms/step - accuracy: 0.9140 - loss: 0.2711 - val_accuracy: 0.8455 - val_loss: 0.4005\n",
      "Epoch 3/20\n",
      "\u001b[1m597/597\u001b[0m \u001b[32m━━━━━━━━━━━━━━━━━━━━\u001b[0m\u001b[37m\u001b[0m \u001b[1m6s\u001b[0m 11ms/step - accuracy: 0.9584 - loss: 0.1658 - val_accuracy: 0.8226 - val_loss: 0.5059\n",
      "Epoch 4/20\n",
      "\u001b[1m597/597\u001b[0m \u001b[32m━━━━━━━━━━━━━━━━━━━━\u001b[0m\u001b[37m\u001b[0m \u001b[1m5s\u001b[0m 8ms/step - accuracy: 0.9812 - loss: 0.0993 - val_accuracy: 0.8231 - val_loss: 0.6739\n",
      "Epoch 5/20\n",
      "\u001b[1m597/597\u001b[0m \u001b[32m━━━━━━━━━━━━━━━━━━━━\u001b[0m\u001b[37m\u001b[0m \u001b[1m6s\u001b[0m 10ms/step - accuracy: 0.9889 - loss: 0.0711 - val_accuracy: 0.8016 - val_loss: 0.8209\n",
      "Epoch 6/20\n",
      "\u001b[1m597/597\u001b[0m \u001b[32m━━━━━━━━━━━━━━━━━━━━\u001b[0m\u001b[37m\u001b[0m \u001b[1m5s\u001b[0m 8ms/step - accuracy: 0.9897 - loss: 0.0693 - val_accuracy: 0.8114 - val_loss: 0.8305\n",
      "Epoch 7/20\n",
      "\u001b[1m597/597\u001b[0m \u001b[32m━━━━━━━━━━━━━━━━━━━━\u001b[0m\u001b[37m\u001b[0m \u001b[1m4s\u001b[0m 7ms/step - accuracy: 0.9930 - loss: 0.0593 - val_accuracy: 0.8175 - val_loss: 0.8915\n",
      "Epoch 8/20\n",
      "\u001b[1m597/597\u001b[0m \u001b[32m━━━━━━━━━━━━━━━━━━━━\u001b[0m\u001b[37m\u001b[0m \u001b[1m4s\u001b[0m 7ms/step - accuracy: 0.9922 - loss: 0.0623 - val_accuracy: 0.8094 - val_loss: 0.9186\n",
      "Epoch 9/20\n",
      "\u001b[1m597/597\u001b[0m \u001b[32m━━━━━━━━━━━━━━━━━━━━\u001b[0m\u001b[37m\u001b[0m \u001b[1m4s\u001b[0m 7ms/step - accuracy: 0.9933 - loss: 0.0556 - val_accuracy: 0.8212 - val_loss: 1.0151\n",
      "Epoch 10/20\n",
      "\u001b[1m597/597\u001b[0m \u001b[32m━━━━━━━━━━━━━━━━━━━━\u001b[0m\u001b[37m\u001b[0m \u001b[1m5s\u001b[0m 8ms/step - accuracy: 0.9944 - loss: 0.0524 - val_accuracy: 0.8078 - val_loss: 1.0325\n",
      "Epoch 11/20\n",
      "\u001b[1m597/597\u001b[0m \u001b[32m━━━━━━━━━━━━━━━━━━━━\u001b[0m\u001b[37m\u001b[0m \u001b[1m5s\u001b[0m 8ms/step - accuracy: 0.9948 - loss: 0.0435 - val_accuracy: 0.8161 - val_loss: 1.0601\n",
      "Epoch 12/20\n",
      "\u001b[1m597/597\u001b[0m \u001b[32m━━━━━━━━━━━━━━━━━━━━\u001b[0m\u001b[37m\u001b[0m \u001b[1m4s\u001b[0m 7ms/step - accuracy: 0.9947 - loss: 0.0505 - val_accuracy: 0.7977 - val_loss: 1.1380\n",
      "Epoch 13/20\n",
      "\u001b[1m597/597\u001b[0m \u001b[32m━━━━━━━━━━━━━━━━━━━━\u001b[0m\u001b[37m\u001b[0m \u001b[1m4s\u001b[0m 7ms/step - accuracy: 0.9947 - loss: 0.0535 - val_accuracy: 0.8117 - val_loss: 1.1226\n",
      "Epoch 14/20\n",
      "\u001b[1m597/597\u001b[0m \u001b[32m━━━━━━━━━━━━━━━━━━━━\u001b[0m\u001b[37m\u001b[0m \u001b[1m6s\u001b[0m 9ms/step - accuracy: 0.9958 - loss: 0.0454 - val_accuracy: 0.8198 - val_loss: 1.1174\n",
      "Epoch 15/20\n",
      "\u001b[1m597/597\u001b[0m \u001b[32m━━━━━━━━━━━━━━━━━━━━\u001b[0m\u001b[37m\u001b[0m \u001b[1m6s\u001b[0m 10ms/step - accuracy: 0.9944 - loss: 0.0486 - val_accuracy: 0.8036 - val_loss: 1.1828\n",
      "Epoch 16/20\n",
      "\u001b[1m597/597\u001b[0m \u001b[32m━━━━━━━━━━━━━━━━━━━━\u001b[0m\u001b[37m\u001b[0m \u001b[1m5s\u001b[0m 8ms/step - accuracy: 0.9944 - loss: 0.0521 - val_accuracy: 0.8128 - val_loss: 1.1229\n",
      "Epoch 17/20\n",
      "\u001b[1m597/597\u001b[0m \u001b[32m━━━━━━━━━━━━━━━━━━━━\u001b[0m\u001b[37m\u001b[0m \u001b[1m6s\u001b[0m 10ms/step - accuracy: 0.9955 - loss: 0.0398 - val_accuracy: 0.8092 - val_loss: 1.1341\n",
      "Epoch 18/20\n",
      "\u001b[1m597/597\u001b[0m \u001b[32m━━━━━━━━━━━━━━━━━━━━\u001b[0m\u001b[37m\u001b[0m \u001b[1m6s\u001b[0m 9ms/step - accuracy: 0.9946 - loss: 0.0430 - val_accuracy: 0.8106 - val_loss: 1.1671\n",
      "Epoch 19/20\n",
      "\u001b[1m597/597\u001b[0m \u001b[32m━━━━━━━━━━━━━━━━━━━━\u001b[0m\u001b[37m\u001b[0m \u001b[1m5s\u001b[0m 9ms/step - accuracy: 0.9973 - loss: 0.0341 - val_accuracy: 0.7952 - val_loss: 1.2384\n",
      "Epoch 20/20\n",
      "\u001b[1m597/597\u001b[0m \u001b[32m━━━━━━━━━━━━━━━━━━━━\u001b[0m\u001b[37m\u001b[0m \u001b[1m6s\u001b[0m 10ms/step - accuracy: 0.9966 - loss: 0.0388 - val_accuracy: 0.8106 - val_loss: 1.1623\n",
      "\u001b[1m560/560\u001b[0m \u001b[32m━━━━━━━━━━━━━━━━━━━━\u001b[0m\u001b[37m\u001b[0m \u001b[1m1s\u001b[0m 2ms/step\n",
      "\u001b[1m276/276\u001b[0m \u001b[32m━━━━━━━━━━━━━━━━━━━━\u001b[0m\u001b[37m\u001b[0m \u001b[1m0s\u001b[0m 1ms/step\n"
     ]
    }
   ],
   "source": [
    "results = {k: fit_nn_model(k, grid_result.best_params_) for k in range(5, 51, 5)}"
   ]
  },
  {
   "cell_type": "code",
   "execution_count": 258,
   "metadata": {},
   "outputs": [
    {
     "data": {
      "image/png": "[encoded data removed]",
      "text/plain": [
       "<Figure size 640x480 with 1 Axes>"
      ]
     },
     "metadata": {},
     "output_type": "display_data"
    }
   ],
   "source": [
    "plt.plot(results.keys(), results.values(), marker='o')\n",
    "\n",
    "plt.show()"
   ]
  }
 ],
 "metadata": {
  "kernelspec": {
   "display_name": "base",
   "language": "python",
   "name": "python3"
  },
  "language_info": {
   "codemirror_mode": {
    "name": "ipython",
    "version": 3
   },
   "file_extension": ".py",
   "mimetype": "text/x-python",
   "name": "python",
   "nbconvert_exporter": "python",
   "pygments_lexer": "ipython3",
   "version": "3.12.2"
  }
 },
 "nbformat": 4,
 "nbformat_minor": 4
}
